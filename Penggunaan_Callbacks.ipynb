{
  "nbformat": 4,
  "nbformat_minor": 0,
  "metadata": {
    "colab": {
      "name": "Penggunaan Callbacks.ipynb",
      "provenance": [],
      "authorship_tag": "ABX9TyPx8d+0vWBnOv0LKbCnPfvB",
      "include_colab_link": true
    },
    "kernelspec": {
      "name": "python3",
      "display_name": "Python 3"
    },
    "language_info": {
      "name": "python"
    }
  },
  "cells": [
    {
      "cell_type": "markdown",
      "metadata": {
        "id": "view-in-github",
        "colab_type": "text"
      },
      "source": [
        "<a href=\"https://colab.research.google.com/github/cevitaufik/Belajar-Pengembangan-Machine-Learning/blob/main/Penggunaan_Callbacks.ipynb\" target=\"_parent\"><img src=\"https://colab.research.google.com/assets/colab-badge.svg\" alt=\"Open In Colab\"/></a>"
      ]
    },
    {
      "cell_type": "code",
      "metadata": {
        "colab": {
          "base_uri": "https://localhost:8080/"
        },
        "id": "fUdb79y2vsuj",
        "outputId": "36488760-dc83-456e-d112-0cad5cf14f71"
      },
      "source": [
        "from google.colab import drive\n",
        "drive.mount('/content/gdrive')"
      ],
      "execution_count": null,
      "outputs": [
        {
          "output_type": "stream",
          "text": [
            "Drive already mounted at /content/gdrive; to attempt to forcibly remount, call drive.mount(\"/content/gdrive\", force_remount=True).\n"
          ],
          "name": "stdout"
        }
      ]
    },
    {
      "cell_type": "code",
      "metadata": {
        "id": "hICrxQQmwGm4"
      },
      "source": [
        "import tensorflow as tf\n",
        "import pandas as pd\n",
        "from sklearn import preprocessing\n",
        "from sklearn.model_selection import train_test_split\n",
        "from keras.models import Sequential\n",
        "from keras.layers import Dense"
      ],
      "execution_count": null,
      "outputs": []
    },
    {
      "cell_type": "code",
      "metadata": {
        "id": "esUAiwZswNbw"
      },
      "source": [
        "df = pd.read_csv('/content/gdrive/MyDrive/sample/Iris.csv')\n",
        "df = df.drop(columns='Id')\n",
        "category = pd.get_dummies(df.Species)"
      ],
      "execution_count": null,
      "outputs": []
    },
    {
      "cell_type": "code",
      "metadata": {
        "id": "IixE_Bo9wb6A"
      },
      "source": [
        "new_df = pd.concat([df, category], axis=1)\n",
        "new_df = new_df.drop(columns='Species')\n",
        "dataset = new_df.values\n",
        "X = dataset[:,0:4]\n",
        "y = dataset[:,4:7]"
      ],
      "execution_count": null,
      "outputs": []
    },
    {
      "cell_type": "code",
      "metadata": {
        "id": "lMmPi59uwcwC"
      },
      "source": [
        "min_max_scaler = preprocessing.MinMaxScaler()\n",
        "X_scale = min_max_scaler.fit_transform(X)\n",
        "X_train, X_test, Y_train, Y_test = train_test_split(X_scale, y, test_size=0.3)"
      ],
      "execution_count": null,
      "outputs": []
    },
    {
      "cell_type": "code",
      "metadata": {
        "id": "T-MpaEJ9wfj3"
      },
      "source": [
        "model = Sequential([    \n",
        "                    Dense(64, activation='relu', input_shape=(4,)),    \n",
        "                    Dense(64, activation='relu'),    \n",
        "                    Dense(3, activation='sigmoid'),])\n",
        "model.compile(optimizer='Adam',\n",
        "              loss='categorical_crossentropy',\n",
        "              metrics=['accuracy'])"
      ],
      "execution_count": null,
      "outputs": []
    },
    {
      "cell_type": "code",
      "metadata": {
        "id": "-gluTankxQbf"
      },
      "source": [
        "class myCallback(tf.keras.callbacks.Callback):\n",
        "  def on_epoch_end(self, epoch, logs={}):\n",
        "    if(logs.get('accuracy')>0.9):\n",
        "      print(\"\\nAkurasi telah mencapai >90%!\")\n",
        "      self.model.stop_training = True\n",
        "callbacks = myCallback()"
      ],
      "execution_count": null,
      "outputs": []
    },
    {
      "cell_type": "code",
      "metadata": {
        "colab": {
          "base_uri": "https://localhost:8080/"
        },
        "id": "OzfnbjlExU-m",
        "outputId": "1c75369a-ed92-4a1f-caf9-67b9231621a5"
      },
      "source": [
        "model.fit(X_train, Y_train, epochs=50, callbacks=[callbacks])"
      ],
      "execution_count": null,
      "outputs": [
        {
          "output_type": "stream",
          "text": [
            "Epoch 1/50\n",
            "4/4 [==============================] - 12s 3ms/step - loss: 1.0990 - accuracy: 0.3503\n",
            "Epoch 2/50\n",
            "4/4 [==============================] - 0s 2ms/step - loss: 1.0570 - accuracy: 0.3750\n",
            "Epoch 3/50\n",
            "4/4 [==============================] - 0s 3ms/step - loss: 1.0218 - accuracy: 0.5144\n",
            "Epoch 4/50\n",
            "4/4 [==============================] - 0s 3ms/step - loss: 0.9968 - accuracy: 0.6438\n",
            "Epoch 5/50\n",
            "4/4 [==============================] - 0s 3ms/step - loss: 0.9714 - accuracy: 0.6559\n",
            "Epoch 6/50\n",
            "4/4 [==============================] - 0s 3ms/step - loss: 0.9277 - accuracy: 0.6996\n",
            "Epoch 7/50\n",
            "4/4 [==============================] - 0s 3ms/step - loss: 0.9169 - accuracy: 0.6653\n",
            "Epoch 8/50\n",
            "4/4 [==============================] - 0s 2ms/step - loss: 0.8927 - accuracy: 0.6694\n",
            "Epoch 9/50\n",
            "4/4 [==============================] - 0s 3ms/step - loss: 0.8582 - accuracy: 0.6903\n",
            "Epoch 10/50\n",
            "4/4 [==============================] - 0s 3ms/step - loss: 0.8209 - accuracy: 0.6851\n",
            "Epoch 11/50\n",
            "4/4 [==============================] - 0s 3ms/step - loss: 0.7949 - accuracy: 0.6746\n",
            "Epoch 12/50\n",
            "4/4 [==============================] - 0s 2ms/step - loss: 0.7691 - accuracy: 0.6757\n",
            "Epoch 13/50\n",
            "4/4 [==============================] - 0s 4ms/step - loss: 0.7327 - accuracy: 0.6903\n",
            "Epoch 14/50\n",
            "4/4 [==============================] - 0s 2ms/step - loss: 0.6995 - accuracy: 0.7038\n",
            "Epoch 15/50\n",
            "4/4 [==============================] - 0s 4ms/step - loss: 0.6735 - accuracy: 0.6924\n",
            "Epoch 16/50\n",
            "4/4 [==============================] - 0s 2ms/step - loss: 0.6234 - accuracy: 0.7257\n",
            "Epoch 17/50\n",
            "4/4 [==============================] - 0s 3ms/step - loss: 0.6454 - accuracy: 0.6382\n",
            "Epoch 18/50\n",
            "4/4 [==============================] - 0s 3ms/step - loss: 0.5985 - accuracy: 0.6611\n",
            "Epoch 19/50\n",
            "4/4 [==============================] - 0s 3ms/step - loss: 0.5715 - accuracy: 0.6746\n",
            "Epoch 20/50\n",
            "4/4 [==============================] - 0s 3ms/step - loss: 0.5401 - accuracy: 0.6892\n",
            "Epoch 21/50\n",
            "4/4 [==============================] - 0s 3ms/step - loss: 0.5195 - accuracy: 0.7049\n",
            "Epoch 22/50\n",
            "4/4 [==============================] - 0s 3ms/step - loss: 0.4940 - accuracy: 0.6976\n",
            "Epoch 23/50\n",
            "4/4 [==============================] - 0s 2ms/step - loss: 0.4913 - accuracy: 0.6764\n",
            "Epoch 24/50\n",
            "4/4 [==============================] - 0s 3ms/step - loss: 0.4834 - accuracy: 0.6802\n",
            "Epoch 25/50\n",
            "4/4 [==============================] - 0s 2ms/step - loss: 0.4469 - accuracy: 0.7281\n",
            "Epoch 26/50\n",
            "4/4 [==============================] - 0s 3ms/step - loss: 0.4533 - accuracy: 0.6975\n",
            "Epoch 27/50\n",
            "4/4 [==============================] - 0s 3ms/step - loss: 0.4648 - accuracy: 0.7391\n",
            "Epoch 28/50\n",
            "4/4 [==============================] - 0s 3ms/step - loss: 0.4738 - accuracy: 0.7783\n",
            "Epoch 29/50\n",
            "4/4 [==============================] - 0s 2ms/step - loss: 0.3961 - accuracy: 0.8929\n",
            "Epoch 30/50\n",
            "4/4 [==============================] - 0s 3ms/step - loss: 0.4075 - accuracy: 0.8762\n",
            "Epoch 31/50\n",
            "4/4 [==============================] - 0s 3ms/step - loss: 0.4000 - accuracy: 0.8925\n",
            "Epoch 32/50\n",
            "4/4 [==============================] - 0s 3ms/step - loss: 0.3862 - accuracy: 0.9095\n",
            "\n",
            "Akurasi telah mencapai >90%!\n"
          ],
          "name": "stdout"
        },
        {
          "output_type": "execute_result",
          "data": {
            "text/plain": [
              "<keras.callbacks.History at 0x7f27074ab9d0>"
            ]
          },
          "metadata": {
            "tags": []
          },
          "execution_count": 15
        }
      ]
    }
  ]
}