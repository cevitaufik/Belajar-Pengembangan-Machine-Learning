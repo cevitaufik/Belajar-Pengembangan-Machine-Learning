{
  "nbformat": 4,
  "nbformat_minor": 0,
  "metadata": {
    "colab": {
      "name": "time series BTCUSD.ipynb",
      "provenance": [],
      "collapsed_sections": [],
      "mount_file_id": "1QSXwJnQXvb552iQZiODSbz5bDG25YDD6",
      "authorship_tag": "ABX9TyMvprMxT+kPdKnLGVnVsD8O",
      "include_colab_link": true
    },
    "kernelspec": {
      "display_name": "Python 3",
      "name": "python3"
    },
    "language_info": {
      "name": "python"
    }
  },
  "cells": [
    {
      "cell_type": "markdown",
      "metadata": {
        "id": "view-in-github",
        "colab_type": "text"
      },
      "source": [
        "<a href=\"https://colab.research.google.com/github/cevitaufik/Belajar-Pengembangan-Machine-Learning/blob/main/Submission_2_time_series_BTCUSD.ipynb\" target=\"_parent\"><img src=\"https://colab.research.google.com/assets/colab-badge.svg\" alt=\"Open In Colab\"/></a>"
      ]
    },
    {
      "cell_type": "markdown",
      "metadata": {
        "id": "Wm6GW87nidvM"
      },
      "source": [
        "# **Memprediksi harga BTCUSD**\n",
        "<hr><br>\n",
        "Nama : Cevi Taufik <br>\n",
        "Email&nbsp;&nbsp;: cevitaufik@gmail.com"
      ]
    },
    {
      "cell_type": "code",
      "metadata": {
        "colab": {
          "base_uri": "https://localhost:8080/"
        },
        "id": "XYrqWHvaOAC3",
        "outputId": "efbf9ccf-e842-497c-8135-2309005580a5"
      },
      "source": [
        "from google.colab import drive\n",
        "drive.mount('/content/gdrive')"
      ],
      "execution_count": 35,
      "outputs": [
        {
          "output_type": "stream",
          "text": [
            "Mounted at /content/gdrive\n"
          ],
          "name": "stdout"
        }
      ]
    },
    {
      "cell_type": "code",
      "metadata": {
        "id": "jONn6CtdOb4v"
      },
      "source": [
        "import numpy as np\n",
        "import pandas as pd\n",
        "from keras.layers import Dense, LSTM\n",
        "import matplotlib.pyplot as plt\n",
        "import tensorflow as tf"
      ],
      "execution_count": 36,
      "outputs": []
    },
    {
      "cell_type": "code",
      "metadata": {
        "colab": {
          "base_uri": "https://localhost:8080/",
          "height": 419
        },
        "id": "DHjofAl5OfcW",
        "outputId": "ba23eecd-0474-4f32-a313-1249d63c3c92"
      },
      "source": [
        "df = pd.read_csv('/content/gdrive/MyDrive/sample/kaggle/gemini_BTCUSD_2020_1min.csv')\n",
        "df = df.drop(columns = ['Unix Timestamp', 'Symbol'])\n",
        "df"
      ],
      "execution_count": 37,
      "outputs": [
        {
          "output_type": "execute_result",
          "data": {
            "text/html": [
              "<div>\n",
              "<style scoped>\n",
              "    .dataframe tbody tr th:only-of-type {\n",
              "        vertical-align: middle;\n",
              "    }\n",
              "\n",
              "    .dataframe tbody tr th {\n",
              "        vertical-align: top;\n",
              "    }\n",
              "\n",
              "    .dataframe thead th {\n",
              "        text-align: right;\n",
              "    }\n",
              "</style>\n",
              "<table border=\"1\" class=\"dataframe\">\n",
              "  <thead>\n",
              "    <tr style=\"text-align: right;\">\n",
              "      <th></th>\n",
              "      <th>Date</th>\n",
              "      <th>Open</th>\n",
              "      <th>High</th>\n",
              "      <th>Low</th>\n",
              "      <th>Close</th>\n",
              "      <th>Volume</th>\n",
              "    </tr>\n",
              "  </thead>\n",
              "  <tbody>\n",
              "    <tr>\n",
              "      <th>0</th>\n",
              "      <td>4/20/2021 0:02</td>\n",
              "      <td>55717.47</td>\n",
              "      <td>55723.00</td>\n",
              "      <td>55541.69</td>\n",
              "      <td>55541.69</td>\n",
              "      <td>2.406734</td>\n",
              "    </tr>\n",
              "    <tr>\n",
              "      <th>1</th>\n",
              "      <td>4/20/2021 0:01</td>\n",
              "      <td>55768.94</td>\n",
              "      <td>55849.82</td>\n",
              "      <td>55711.74</td>\n",
              "      <td>55717.47</td>\n",
              "      <td>0.573458</td>\n",
              "    </tr>\n",
              "    <tr>\n",
              "      <th>2</th>\n",
              "      <td>4/20/2021 0:00</td>\n",
              "      <td>55691.79</td>\n",
              "      <td>55793.15</td>\n",
              "      <td>55691.79</td>\n",
              "      <td>55768.94</td>\n",
              "      <td>3.309904</td>\n",
              "    </tr>\n",
              "    <tr>\n",
              "      <th>3</th>\n",
              "      <td>4/19/2021 23:59</td>\n",
              "      <td>55777.86</td>\n",
              "      <td>55777.86</td>\n",
              "      <td>55677.92</td>\n",
              "      <td>55691.79</td>\n",
              "      <td>0.684934</td>\n",
              "    </tr>\n",
              "    <tr>\n",
              "      <th>4</th>\n",
              "      <td>4/19/2021 23:58</td>\n",
              "      <td>55803.50</td>\n",
              "      <td>55823.88</td>\n",
              "      <td>55773.08</td>\n",
              "      <td>55777.86</td>\n",
              "      <td>0.477225</td>\n",
              "    </tr>\n",
              "    <tr>\n",
              "      <th>...</th>\n",
              "      <td>...</td>\n",
              "      <td>...</td>\n",
              "      <td>...</td>\n",
              "      <td>...</td>\n",
              "      <td>...</td>\n",
              "      <td>...</td>\n",
              "    </tr>\n",
              "    <tr>\n",
              "      <th>658060</th>\n",
              "      <td>1/1/2020 0:04</td>\n",
              "      <td>7163.60</td>\n",
              "      <td>7163.60</td>\n",
              "      <td>7163.00</td>\n",
              "      <td>7163.00</td>\n",
              "      <td>1.751844</td>\n",
              "    </tr>\n",
              "    <tr>\n",
              "      <th>658061</th>\n",
              "      <td>1/1/2020 0:03</td>\n",
              "      <td>7163.00</td>\n",
              "      <td>7163.60</td>\n",
              "      <td>7163.00</td>\n",
              "      <td>7163.60</td>\n",
              "      <td>0.002706</td>\n",
              "    </tr>\n",
              "    <tr>\n",
              "      <th>658062</th>\n",
              "      <td>1/1/2020 0:02</td>\n",
              "      <td>7163.30</td>\n",
              "      <td>7164.22</td>\n",
              "      <td>7163.00</td>\n",
              "      <td>7163.00</td>\n",
              "      <td>0.063904</td>\n",
              "    </tr>\n",
              "    <tr>\n",
              "      <th>658063</th>\n",
              "      <td>1/1/2020 0:01</td>\n",
              "      <td>7163.30</td>\n",
              "      <td>7164.23</td>\n",
              "      <td>7163.30</td>\n",
              "      <td>7163.30</td>\n",
              "      <td>0.002646</td>\n",
              "    </tr>\n",
              "    <tr>\n",
              "      <th>658064</th>\n",
              "      <td>1/1/2020 0:00</td>\n",
              "      <td>7165.90</td>\n",
              "      <td>7170.79</td>\n",
              "      <td>7163.30</td>\n",
              "      <td>7163.30</td>\n",
              "      <td>0.007931</td>\n",
              "    </tr>\n",
              "  </tbody>\n",
              "</table>\n",
              "<p>658065 rows × 6 columns</p>\n",
              "</div>"
            ],
            "text/plain": [
              "                   Date      Open      High       Low     Close    Volume\n",
              "0        4/20/2021 0:02  55717.47  55723.00  55541.69  55541.69  2.406734\n",
              "1        4/20/2021 0:01  55768.94  55849.82  55711.74  55717.47  0.573458\n",
              "2        4/20/2021 0:00  55691.79  55793.15  55691.79  55768.94  3.309904\n",
              "3       4/19/2021 23:59  55777.86  55777.86  55677.92  55691.79  0.684934\n",
              "4       4/19/2021 23:58  55803.50  55823.88  55773.08  55777.86  0.477225\n",
              "...                 ...       ...       ...       ...       ...       ...\n",
              "658060    1/1/2020 0:04   7163.60   7163.60   7163.00   7163.00  1.751844\n",
              "658061    1/1/2020 0:03   7163.00   7163.60   7163.00   7163.60  0.002706\n",
              "658062    1/1/2020 0:02   7163.30   7164.22   7163.00   7163.00  0.063904\n",
              "658063    1/1/2020 0:01   7163.30   7164.23   7163.30   7163.30  0.002646\n",
              "658064    1/1/2020 0:00   7165.90   7170.79   7163.30   7163.30  0.007931\n",
              "\n",
              "[658065 rows x 6 columns]"
            ]
          },
          "metadata": {
            "tags": []
          },
          "execution_count": 37
        }
      ]
    },
    {
      "cell_type": "code",
      "metadata": {
        "colab": {
          "base_uri": "https://localhost:8080/",
          "height": 419
        },
        "id": "MITKYZ0gnug4",
        "outputId": "e5000fd5-10c1-43ed-ef85-d3005664ddba"
      },
      "source": [
        "# mengurangi jumlah data menjadi hanya 40000\n",
        "# untuk mempersingkat proses\n",
        "df = df.drop(labels = range(0, 618000), axis = 0)\n",
        "df"
      ],
      "execution_count": 38,
      "outputs": [
        {
          "output_type": "execute_result",
          "data": {
            "text/html": [
              "<div>\n",
              "<style scoped>\n",
              "    .dataframe tbody tr th:only-of-type {\n",
              "        vertical-align: middle;\n",
              "    }\n",
              "\n",
              "    .dataframe tbody tr th {\n",
              "        vertical-align: top;\n",
              "    }\n",
              "\n",
              "    .dataframe thead th {\n",
              "        text-align: right;\n",
              "    }\n",
              "</style>\n",
              "<table border=\"1\" class=\"dataframe\">\n",
              "  <thead>\n",
              "    <tr style=\"text-align: right;\">\n",
              "      <th></th>\n",
              "      <th>Date</th>\n",
              "      <th>Open</th>\n",
              "      <th>High</th>\n",
              "      <th>Low</th>\n",
              "      <th>Close</th>\n",
              "      <th>Volume</th>\n",
              "    </tr>\n",
              "  </thead>\n",
              "  <tbody>\n",
              "    <tr>\n",
              "      <th>618000</th>\n",
              "      <td>1/30/2020 19:42</td>\n",
              "      <td>9459.27</td>\n",
              "      <td>9459.27</td>\n",
              "      <td>9459.27</td>\n",
              "      <td>9459.27</td>\n",
              "      <td>0.000000</td>\n",
              "    </tr>\n",
              "    <tr>\n",
              "      <th>618001</th>\n",
              "      <td>1/30/2020 19:41</td>\n",
              "      <td>9460.42</td>\n",
              "      <td>9463.86</td>\n",
              "      <td>9457.25</td>\n",
              "      <td>9459.27</td>\n",
              "      <td>0.010936</td>\n",
              "    </tr>\n",
              "    <tr>\n",
              "      <th>618002</th>\n",
              "      <td>1/30/2020 19:40</td>\n",
              "      <td>9459.47</td>\n",
              "      <td>9472.85</td>\n",
              "      <td>9459.47</td>\n",
              "      <td>9460.42</td>\n",
              "      <td>21.048081</td>\n",
              "    </tr>\n",
              "    <tr>\n",
              "      <th>618003</th>\n",
              "      <td>1/30/2020 19:39</td>\n",
              "      <td>9455.76</td>\n",
              "      <td>9459.47</td>\n",
              "      <td>9455.76</td>\n",
              "      <td>9459.47</td>\n",
              "      <td>0.024210</td>\n",
              "    </tr>\n",
              "    <tr>\n",
              "      <th>618004</th>\n",
              "      <td>1/30/2020 19:38</td>\n",
              "      <td>9456.46</td>\n",
              "      <td>9465.31</td>\n",
              "      <td>9453.64</td>\n",
              "      <td>9455.76</td>\n",
              "      <td>1.244039</td>\n",
              "    </tr>\n",
              "    <tr>\n",
              "      <th>...</th>\n",
              "      <td>...</td>\n",
              "      <td>...</td>\n",
              "      <td>...</td>\n",
              "      <td>...</td>\n",
              "      <td>...</td>\n",
              "      <td>...</td>\n",
              "    </tr>\n",
              "    <tr>\n",
              "      <th>658060</th>\n",
              "      <td>1/1/2020 0:04</td>\n",
              "      <td>7163.60</td>\n",
              "      <td>7163.60</td>\n",
              "      <td>7163.00</td>\n",
              "      <td>7163.00</td>\n",
              "      <td>1.751844</td>\n",
              "    </tr>\n",
              "    <tr>\n",
              "      <th>658061</th>\n",
              "      <td>1/1/2020 0:03</td>\n",
              "      <td>7163.00</td>\n",
              "      <td>7163.60</td>\n",
              "      <td>7163.00</td>\n",
              "      <td>7163.60</td>\n",
              "      <td>0.002706</td>\n",
              "    </tr>\n",
              "    <tr>\n",
              "      <th>658062</th>\n",
              "      <td>1/1/2020 0:02</td>\n",
              "      <td>7163.30</td>\n",
              "      <td>7164.22</td>\n",
              "      <td>7163.00</td>\n",
              "      <td>7163.00</td>\n",
              "      <td>0.063904</td>\n",
              "    </tr>\n",
              "    <tr>\n",
              "      <th>658063</th>\n",
              "      <td>1/1/2020 0:01</td>\n",
              "      <td>7163.30</td>\n",
              "      <td>7164.23</td>\n",
              "      <td>7163.30</td>\n",
              "      <td>7163.30</td>\n",
              "      <td>0.002646</td>\n",
              "    </tr>\n",
              "    <tr>\n",
              "      <th>658064</th>\n",
              "      <td>1/1/2020 0:00</td>\n",
              "      <td>7165.90</td>\n",
              "      <td>7170.79</td>\n",
              "      <td>7163.30</td>\n",
              "      <td>7163.30</td>\n",
              "      <td>0.007931</td>\n",
              "    </tr>\n",
              "  </tbody>\n",
              "</table>\n",
              "<p>40065 rows × 6 columns</p>\n",
              "</div>"
            ],
            "text/plain": [
              "                   Date     Open     High      Low    Close     Volume\n",
              "618000  1/30/2020 19:42  9459.27  9459.27  9459.27  9459.27   0.000000\n",
              "618001  1/30/2020 19:41  9460.42  9463.86  9457.25  9459.27   0.010936\n",
              "618002  1/30/2020 19:40  9459.47  9472.85  9459.47  9460.42  21.048081\n",
              "618003  1/30/2020 19:39  9455.76  9459.47  9455.76  9459.47   0.024210\n",
              "618004  1/30/2020 19:38  9456.46  9465.31  9453.64  9455.76   1.244039\n",
              "...                 ...      ...      ...      ...      ...        ...\n",
              "658060    1/1/2020 0:04  7163.60  7163.60  7163.00  7163.00   1.751844\n",
              "658061    1/1/2020 0:03  7163.00  7163.60  7163.00  7163.60   0.002706\n",
              "658062    1/1/2020 0:02  7163.30  7164.22  7163.00  7163.00   0.063904\n",
              "658063    1/1/2020 0:01  7163.30  7164.23  7163.30  7163.30   0.002646\n",
              "658064    1/1/2020 0:00  7165.90  7170.79  7163.30  7163.30   0.007931\n",
              "\n",
              "[40065 rows x 6 columns]"
            ]
          },
          "metadata": {
            "tags": []
          },
          "execution_count": 38
        }
      ]
    },
    {
      "cell_type": "code",
      "metadata": {
        "colab": {
          "base_uri": "https://localhost:8080/"
        },
        "id": "TxddubYIipkN",
        "outputId": "ca50d82a-0aeb-4425-ac9b-9b2afe8d532b"
      },
      "source": [
        "df.isnull().sum()"
      ],
      "execution_count": 39,
      "outputs": [
        {
          "output_type": "execute_result",
          "data": {
            "text/plain": [
              "Date      0\n",
              "Open      0\n",
              "High      0\n",
              "Low       0\n",
              "Close     0\n",
              "Volume    0\n",
              "dtype: int64"
            ]
          },
          "metadata": {
            "tags": []
          },
          "execution_count": 39
        }
      ]
    },
    {
      "cell_type": "code",
      "metadata": {
        "colab": {
          "base_uri": "https://localhost:8080/",
          "height": 341
        },
        "id": "21fWY4GTiuVK",
        "outputId": "8b4a6a1b-d352-4b34-dd2d-cf355a61b996"
      },
      "source": [
        "dates = df['Date'].values\n",
        "price = df['Close'].values\n",
        "\n",
        "plt.figure(figsize = (15,5))\n",
        "plt.plot(dates, price)\n",
        "plt.title('Price BTCUSD', fontsize = 20);"
      ],
      "execution_count": 40,
      "outputs": [
        {
          "output_type": "display_data",
          "data": {
            "image/png": "[encoded data removed]",
            "text/plain": [
              "<Figure size 1080x360 with 1 Axes>"
            ]
          },
          "metadata": {
            "tags": [],
            "needs_background": "light"
          }
        }
      ]
    },
    {
      "cell_type": "code",
      "metadata": {
        "id": "robtWOoN4e8V"
      },
      "source": [
        "from sklearn.model_selection import train_test_split\n",
        "dates_train, dates_test, price_train, price_test = train_test_split(dates, price, test_size = 0.2, random_state = 1)"
      ],
      "execution_count": 41,
      "outputs": []
    },
    {
      "cell_type": "code",
      "metadata": {
        "id": "vmEVlYcyjslf"
      },
      "source": [
        "def windowed_dataset(series, window_size, batch_size, shuffle_buffer):\n",
        "    series = tf.expand_dims(series, axis = -1)\n",
        "    ds = tf.data.Dataset.from_tensor_slices(series)\n",
        "    ds = ds.window(window_size + 1, shift = 1, drop_remainder = True)\n",
        "    ds = ds.flat_map(lambda w: w.batch(window_size + 1))\n",
        "    ds = ds.shuffle(shuffle_buffer)\n",
        "    ds = ds.map(lambda w: (w[:-1], w[-1:]))\n",
        "    return ds.batch(batch_size).prefetch(1)"
      ],
      "execution_count": 42,
      "outputs": []
    },
    {
      "cell_type": "code",
      "metadata": {
        "id": "8vmfQQkEj26P"
      },
      "source": [
        "train_set = windowed_dataset(price_train,\n",
        "                             window_size = 60,\n",
        "                             batch_size = 200,\n",
        "                             shuffle_buffer = 1000)\n",
        "\n",
        "test_set = windowed_dataset(price_test,\n",
        "                             window_size = 60,\n",
        "                             batch_size = 200,\n",
        "                             shuffle_buffer = 1000)\n",
        " \n",
        "model = tf.keras.models.Sequential([\n",
        "  tf.keras.layers.LSTM(60, return_sequences = True),\n",
        "  tf.keras.layers.LSTM(60),\n",
        "  tf.keras.layers.Dense(30, activation = \"relu\"),\n",
        "  tf.keras.layers.Dense(10, activation = \"relu\"),\n",
        "  tf.keras.layers.Dense(1),\n",
        "])"
      ],
      "execution_count": 43,
      "outputs": []
    },
    {
      "cell_type": "code",
      "metadata": {
        "id": "h-jAyyvwkAUG",
        "colab": {
          "base_uri": "https://localhost:8080/"
        },
        "outputId": "fa05c20c-b01a-4570-f954-2d28abd9eb1c"
      },
      "source": [
        "targetAccuracy = 2200\n",
        " \n",
        "class clbk(tf.keras.callbacks.Callback):\n",
        "  def on_epoch_end(self, epoch, logs = {}):\n",
        "    if(logs.get('mae') < targetAccuracy):\n",
        "      print(\"\\nTarget akurasi telah tercapai!\")\n",
        "      self.model.stop_training = True\n",
        "callback = clbk()\n",
        "\n",
        "# lr = 1.0000e-04\n",
        "lr = 0.1\n",
        "optimizer = tf.keras.optimizers.SGD(learning_rate = lr, momentum = 0.9)\n",
        "model.compile(loss = tf.keras.losses.Huber(),\n",
        "              optimizer = optimizer,\n",
        "              metrics = [\"mae\"])\n",
        " \n",
        "epoch = 100\n",
        "batch = 128\n",
        "history = model.fit(train_set,\n",
        "                    batch_size = batch, \n",
        "                    epochs = epoch, \n",
        "                    callbacks = [callback],\n",
        "                    validation_data = (test_set))"
      ],
      "execution_count": 44,
      "outputs": [
        {
          "output_type": "stream",
          "text": [
            "Epoch 1/100\n",
            "160/160 [==============================] - 39s 219ms/step - loss: 17879.2266 - mae: 17879.7207 - val_loss: 8142.3999 - val_mae: 8142.8999\n",
            "Epoch 2/100\n",
            "160/160 [==============================] - 34s 214ms/step - loss: 8060.1782 - mae: 8060.6812 - val_loss: 7982.3994 - val_mae: 7982.8994\n",
            "Epoch 3/100\n",
            "160/160 [==============================] - 35s 215ms/step - loss: 7900.1816 - mae: 7900.6797 - val_loss: 7822.3989 - val_mae: 7822.8994\n",
            "Epoch 4/100\n",
            "160/160 [==============================] - 35s 216ms/step - loss: 7740.1812 - mae: 7740.6807 - val_loss: 7662.3984 - val_mae: 7662.8984\n",
            "Epoch 5/100\n",
            "160/160 [==============================] - 35s 215ms/step - loss: 7580.1797 - mae: 7580.6812 - val_loss: 7502.3984 - val_mae: 7502.8979\n",
            "Epoch 6/100\n",
            "160/160 [==============================] - 34s 214ms/step - loss: 7420.1782 - mae: 7420.6792 - val_loss: 7342.3999 - val_mae: 7342.8989\n",
            "Epoch 7/100\n",
            "160/160 [==============================] - 35s 215ms/step - loss: 7260.1816 - mae: 7260.6816 - val_loss: 7182.3994 - val_mae: 7182.8994\n",
            "Epoch 8/100\n",
            "160/160 [==============================] - 35s 215ms/step - loss: 7100.1772 - mae: 7100.6812 - val_loss: 7022.3984 - val_mae: 7022.8984\n",
            "Epoch 9/100\n",
            "160/160 [==============================] - 35s 215ms/step - loss: 6940.1816 - mae: 6940.6797 - val_loss: 6862.3984 - val_mae: 6862.8984\n",
            "Epoch 10/100\n",
            "160/160 [==============================] - 34s 213ms/step - loss: 6780.1807 - mae: 6780.6797 - val_loss: 6702.3994 - val_mae: 6702.8994\n",
            "Epoch 11/100\n",
            "160/160 [==============================] - 34s 214ms/step - loss: 6620.1802 - mae: 6620.6768 - val_loss: 6542.3984 - val_mae: 6542.8984\n",
            "Epoch 12/100\n",
            "160/160 [==============================] - 34s 214ms/step - loss: 6460.1797 - mae: 6460.6807 - val_loss: 6382.3994 - val_mae: 6382.8989\n",
            "Epoch 13/100\n",
            "160/160 [==============================] - 34s 214ms/step - loss: 6300.1792 - mae: 6300.6807 - val_loss: 6222.3994 - val_mae: 6222.8994\n",
            "Epoch 14/100\n",
            "160/160 [==============================] - 34s 214ms/step - loss: 6140.1797 - mae: 6140.6792 - val_loss: 6062.3984 - val_mae: 6062.8994\n",
            "Epoch 15/100\n",
            "160/160 [==============================] - 34s 213ms/step - loss: 5980.1792 - mae: 5980.6802 - val_loss: 5902.3994 - val_mae: 5902.8989\n",
            "Epoch 16/100\n",
            "160/160 [==============================] - 35s 215ms/step - loss: 5820.1812 - mae: 5820.6797 - val_loss: 5742.3994 - val_mae: 5742.8999\n",
            "Epoch 17/100\n",
            "160/160 [==============================] - 35s 215ms/step - loss: 5660.1802 - mae: 5660.6797 - val_loss: 5582.3989 - val_mae: 5582.8989\n",
            "Epoch 18/100\n",
            "160/160 [==============================] - 35s 215ms/step - loss: 5500.1792 - mae: 5500.6802 - val_loss: 5422.3994 - val_mae: 5422.8999\n",
            "Epoch 19/100\n",
            "160/160 [==============================] - 34s 213ms/step - loss: 5340.1802 - mae: 5340.6797 - val_loss: 5262.3989 - val_mae: 5262.8989\n",
            "Epoch 20/100\n",
            "160/160 [==============================] - 34s 214ms/step - loss: 5180.1787 - mae: 5180.6812 - val_loss: 5102.3984 - val_mae: 5102.8989\n",
            "Epoch 21/100\n",
            "160/160 [==============================] - 34s 213ms/step - loss: 5020.1812 - mae: 5020.6792 - val_loss: 4942.3984 - val_mae: 4942.8984\n",
            "Epoch 22/100\n",
            "160/160 [==============================] - 35s 215ms/step - loss: 4860.1807 - mae: 4860.6777 - val_loss: 4782.3989 - val_mae: 4782.8989\n",
            "Epoch 23/100\n",
            "160/160 [==============================] - 35s 215ms/step - loss: 4700.1812 - mae: 4700.6807 - val_loss: 4622.3989 - val_mae: 4622.8989\n",
            "Epoch 24/100\n",
            "160/160 [==============================] - 34s 214ms/step - loss: 4540.1797 - mae: 4540.6792 - val_loss: 4462.3989 - val_mae: 4462.8989\n",
            "Epoch 25/100\n",
            "160/160 [==============================] - 35s 216ms/step - loss: 4380.1782 - mae: 4380.6816 - val_loss: 4302.3989 - val_mae: 4302.8989\n",
            "Epoch 26/100\n",
            "160/160 [==============================] - 34s 214ms/step - loss: 4220.1797 - mae: 4220.6792 - val_loss: 4142.3989 - val_mae: 4142.8989\n",
            "Epoch 27/100\n",
            "160/160 [==============================] - 34s 214ms/step - loss: 4060.1799 - mae: 4060.6804 - val_loss: 3982.3997 - val_mae: 3982.8994\n",
            "Epoch 28/100\n",
            "160/160 [==============================] - 35s 215ms/step - loss: 3900.1792 - mae: 3900.6799 - val_loss: 3822.4001 - val_mae: 3822.9001\n",
            "Epoch 29/100\n",
            "160/160 [==============================] - 34s 214ms/step - loss: 3740.1812 - mae: 3740.6797 - val_loss: 3662.3997 - val_mae: 3662.8994\n",
            "Epoch 30/100\n",
            "160/160 [==============================] - 34s 214ms/step - loss: 3580.1790 - mae: 3580.6812 - val_loss: 3502.3997 - val_mae: 3502.8994\n",
            "Epoch 31/100\n",
            "160/160 [==============================] - 34s 214ms/step - loss: 3420.1785 - mae: 3420.6804 - val_loss: 3342.4001 - val_mae: 3342.9001\n",
            "Epoch 32/100\n",
            "160/160 [==============================] - 35s 215ms/step - loss: 3260.1797 - mae: 3260.6802 - val_loss: 3182.3999 - val_mae: 3182.8999\n",
            "Epoch 33/100\n",
            "160/160 [==============================] - 35s 215ms/step - loss: 3100.1799 - mae: 3100.6802 - val_loss: 3022.4001 - val_mae: 3022.9001\n",
            "Epoch 34/100\n",
            "160/160 [==============================] - 35s 216ms/step - loss: 2940.1799 - mae: 2940.6799 - val_loss: 2862.3994 - val_mae: 2862.8992\n",
            "Epoch 35/100\n",
            "160/160 [==============================] - 34s 214ms/step - loss: 2780.1794 - mae: 2780.6794 - val_loss: 2702.3997 - val_mae: 2702.8994\n",
            "Epoch 36/100\n",
            "160/160 [==============================] - 34s 215ms/step - loss: 2620.1794 - mae: 2620.6799 - val_loss: 2542.3997 - val_mae: 2542.8994\n",
            "Epoch 37/100\n",
            "160/160 [==============================] - 35s 215ms/step - loss: 2460.1802 - mae: 2460.6799 - val_loss: 2382.3997 - val_mae: 2382.8994\n",
            "Epoch 38/100\n",
            "160/160 [==============================] - 35s 215ms/step - loss: 2300.1799 - mae: 2300.6797 - val_loss: 2222.3994 - val_mae: 2222.8992\n",
            "Epoch 39/100\n",
            "160/160 [==============================] - 35s 215ms/step - loss: 2140.1799 - mae: 2140.6802 - val_loss: 2062.3994 - val_mae: 2062.8992\n",
            "\n",
            "Target akurasi telah tercapai!\n"
          ],
          "name": "stdout"
        }
      ]
    },
    {
      "cell_type": "code",
      "metadata": {
        "id": "uwy7_9Bllj5c",
        "colab": {
          "base_uri": "https://localhost:8080/",
          "height": 295
        },
        "outputId": "47ee909f-fffb-45d2-df7b-c969e3866170"
      },
      "source": [
        "import matplotlib.pyplot as plt\n",
        " \n",
        "plt.plot(history.history['loss'])\n",
        "plt.title('Model loss')\n",
        "plt.ylabel('Loss')\n",
        "plt.xlabel('Epoch')\n",
        "plt.legend(['Train'], loc = 'upper right')\n",
        "plt.show()"
      ],
      "execution_count": 45,
      "outputs": [
        {
          "output_type": "display_data",
          "data": {
            "image/png": "[encoded data removed]",
            "text/plain": [
              "<Figure size 432x288 with 1 Axes>"
            ]
          },
          "metadata": {
            "tags": [],
            "needs_background": "light"
          }
        }
      ]
    },
    {
      "cell_type": "code",
      "metadata": {
        "id": "yNw-FBA5lqgK",
        "colab": {
          "base_uri": "https://localhost:8080/",
          "height": 295
        },
        "outputId": "bcbeb02f-633a-45ce-e81d-4c4c8c53c793"
      },
      "source": [
        "plt.plot(history.history['mae'])\n",
        "plt.title('Model accuracy')\n",
        "plt.ylabel('Mae')\n",
        "plt.xlabel('Epoch')\n",
        "plt.legend(['Train'], loc = 'upper right')\n",
        "plt.show()"
      ],
      "execution_count": 46,
      "outputs": [
        {
          "output_type": "display_data",
          "data": {
            "image/png": "[encoded data removed]",
            "text/plain": [
              "<Figure size 432x288 with 1 Axes>"
            ]
          },
          "metadata": {
            "tags": [],
            "needs_background": "light"
          }
        }
      ]
    }
  ]
}