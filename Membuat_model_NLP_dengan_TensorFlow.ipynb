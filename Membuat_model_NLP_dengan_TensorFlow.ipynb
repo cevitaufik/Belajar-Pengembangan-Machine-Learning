{
  "nbformat": 4,
  "nbformat_minor": 0,
  "metadata": {
    "colab": {
      "name": "Membuat model NLP dengan TensorFlow.ipynb",
      "provenance": [],
      "authorship_tag": "ABX9TyMxTmJfMukJISqTmRV4Qnyo",
      "include_colab_link": true
    },
    "kernelspec": {
      "display_name": "Python 3",
      "name": "python3"
    },
    "language_info": {
      "name": "python"
    }
  },
  "cells": [
    {
      "cell_type": "markdown",
      "metadata": {
        "id": "view-in-github",
        "colab_type": "text"
      },
      "source": [
        "<a href=\"https://colab.research.google.com/github/cevitaufik/Belajar-Pengembangan-Machine-Learning/blob/main/Membuat_model_NLP_dengan_TensorFlow.ipynb\" target=\"_parent\"><img src=\"https://colab.research.google.com/assets/colab-badge.svg\" alt=\"Open In Colab\"/></a>"
      ]
    },
    {
      "cell_type": "markdown",
      "metadata": {
        "id": "3serudBVO90N"
      },
      "source": [
        "**Memprediksi kategori berita berdasarkan isi berintanya.**\n",
        "<hr>\n",
        "<br>\n",
        "Nama : Cevi Taufik <br>\n",
        "Email&ensp;: cevitaufik@gmail.com"
      ]
    },
    {
      "cell_type": "code",
      "metadata": {
        "colab": {
          "base_uri": "https://localhost:8080/"
        },
        "id": "zgnxBuv-Pb6o",
        "outputId": "6950bd1e-423f-4814-fdbd-736fbcfad45f"
      },
      "source": [
        " from google.colab import drive\n",
        "drive.mount('/content/gdrive')"
      ],
      "execution_count": null,
      "outputs": [
        {
          "output_type": "stream",
          "text": [
            "Drive already mounted at /content/gdrive; to attempt to forcibly remount, call drive.mount(\"/content/gdrive\", force_remount=True).\n"
          ],
          "name": "stdout"
        }
      ]
    },
    {
      "cell_type": "code",
      "metadata": {
        "colab": {
          "base_uri": "https://localhost:8080/",
          "height": 204
        },
        "id": "TFJvFe5zPfhK",
        "outputId": "e7a3dd8f-fcf9-4370-fa3c-23908362cb12"
      },
      "source": [
        " import pandas as pd\n",
        "df = pd.read_csv('/content/gdrive/MyDrive/sample/bbc-text.csv')\n",
        "df.head()"
      ],
      "execution_count": null,
      "outputs": [
        {
          "output_type": "execute_result",
          "data": {
            "text/html": [
              "<div>\n",
              "<style scoped>\n",
              "    .dataframe tbody tr th:only-of-type {\n",
              "        vertical-align: middle;\n",
              "    }\n",
              "\n",
              "    .dataframe tbody tr th {\n",
              "        vertical-align: top;\n",
              "    }\n",
              "\n",
              "    .dataframe thead th {\n",
              "        text-align: right;\n",
              "    }\n",
              "</style>\n",
              "<table border=\"1\" class=\"dataframe\">\n",
              "  <thead>\n",
              "    <tr style=\"text-align: right;\">\n",
              "      <th></th>\n",
              "      <th>category</th>\n",
              "      <th>text</th>\n",
              "    </tr>\n",
              "  </thead>\n",
              "  <tbody>\n",
              "    <tr>\n",
              "      <th>0</th>\n",
              "      <td>tech</td>\n",
              "      <td>tv future in the hands of viewers with home th...</td>\n",
              "    </tr>\n",
              "    <tr>\n",
              "      <th>1</th>\n",
              "      <td>business</td>\n",
              "      <td>worldcom boss  left books alone  former worldc...</td>\n",
              "    </tr>\n",
              "    <tr>\n",
              "      <th>2</th>\n",
              "      <td>sport</td>\n",
              "      <td>tigers wary of farrell  gamble  leicester say ...</td>\n",
              "    </tr>\n",
              "    <tr>\n",
              "      <th>3</th>\n",
              "      <td>sport</td>\n",
              "      <td>yeading face newcastle in fa cup premiership s...</td>\n",
              "    </tr>\n",
              "    <tr>\n",
              "      <th>4</th>\n",
              "      <td>entertainment</td>\n",
              "      <td>ocean s twelve raids box office ocean s twelve...</td>\n",
              "    </tr>\n",
              "  </tbody>\n",
              "</table>\n",
              "</div>"
            ],
            "text/plain": [
              "        category                                               text\n",
              "0           tech  tv future in the hands of viewers with home th...\n",
              "1       business  worldcom boss  left books alone  former worldc...\n",
              "2          sport  tigers wary of farrell  gamble  leicester say ...\n",
              "3          sport  yeading face newcastle in fa cup premiership s...\n",
              "4  entertainment  ocean s twelve raids box office ocean s twelve..."
            ]
          },
          "metadata": {
            "tags": []
          },
          "execution_count": 82
        }
      ]
    },
    {
      "cell_type": "code",
      "metadata": {
        "id": "K_rKSk5GPkO7",
        "colab": {
          "base_uri": "https://localhost:8080/",
          "height": 419
        },
        "outputId": "9db46cd2-7e28-4e0b-87c9-54fec3f796c2"
      },
      "source": [
        "category = pd.get_dummies(df.category)\n",
        "df_new = pd.concat([df, category], axis=1)\n",
        "df_new = df_new.drop(columns='category')\n",
        "df_new"
      ],
      "execution_count": null,
      "outputs": [
        {
          "output_type": "execute_result",
          "data": {
            "text/html": [
              "<div>\n",
              "<style scoped>\n",
              "    .dataframe tbody tr th:only-of-type {\n",
              "        vertical-align: middle;\n",
              "    }\n",
              "\n",
              "    .dataframe tbody tr th {\n",
              "        vertical-align: top;\n",
              "    }\n",
              "\n",
              "    .dataframe thead th {\n",
              "        text-align: right;\n",
              "    }\n",
              "</style>\n",
              "<table border=\"1\" class=\"dataframe\">\n",
              "  <thead>\n",
              "    <tr style=\"text-align: right;\">\n",
              "      <th></th>\n",
              "      <th>text</th>\n",
              "      <th>business</th>\n",
              "      <th>entertainment</th>\n",
              "      <th>politics</th>\n",
              "      <th>sport</th>\n",
              "      <th>tech</th>\n",
              "    </tr>\n",
              "  </thead>\n",
              "  <tbody>\n",
              "    <tr>\n",
              "      <th>0</th>\n",
              "      <td>tv future in the hands of viewers with home th...</td>\n",
              "      <td>0</td>\n",
              "      <td>0</td>\n",
              "      <td>0</td>\n",
              "      <td>0</td>\n",
              "      <td>1</td>\n",
              "    </tr>\n",
              "    <tr>\n",
              "      <th>1</th>\n",
              "      <td>worldcom boss  left books alone  former worldc...</td>\n",
              "      <td>1</td>\n",
              "      <td>0</td>\n",
              "      <td>0</td>\n",
              "      <td>0</td>\n",
              "      <td>0</td>\n",
              "    </tr>\n",
              "    <tr>\n",
              "      <th>2</th>\n",
              "      <td>tigers wary of farrell  gamble  leicester say ...</td>\n",
              "      <td>0</td>\n",
              "      <td>0</td>\n",
              "      <td>0</td>\n",
              "      <td>1</td>\n",
              "      <td>0</td>\n",
              "    </tr>\n",
              "    <tr>\n",
              "      <th>3</th>\n",
              "      <td>yeading face newcastle in fa cup premiership s...</td>\n",
              "      <td>0</td>\n",
              "      <td>0</td>\n",
              "      <td>0</td>\n",
              "      <td>1</td>\n",
              "      <td>0</td>\n",
              "    </tr>\n",
              "    <tr>\n",
              "      <th>4</th>\n",
              "      <td>ocean s twelve raids box office ocean s twelve...</td>\n",
              "      <td>0</td>\n",
              "      <td>1</td>\n",
              "      <td>0</td>\n",
              "      <td>0</td>\n",
              "      <td>0</td>\n",
              "    </tr>\n",
              "    <tr>\n",
              "      <th>...</th>\n",
              "      <td>...</td>\n",
              "      <td>...</td>\n",
              "      <td>...</td>\n",
              "      <td>...</td>\n",
              "      <td>...</td>\n",
              "      <td>...</td>\n",
              "    </tr>\n",
              "    <tr>\n",
              "      <th>2220</th>\n",
              "      <td>cars pull down us retail figures us retail sal...</td>\n",
              "      <td>1</td>\n",
              "      <td>0</td>\n",
              "      <td>0</td>\n",
              "      <td>0</td>\n",
              "      <td>0</td>\n",
              "    </tr>\n",
              "    <tr>\n",
              "      <th>2221</th>\n",
              "      <td>kilroy unveils immigration policy ex-chatshow ...</td>\n",
              "      <td>0</td>\n",
              "      <td>0</td>\n",
              "      <td>1</td>\n",
              "      <td>0</td>\n",
              "      <td>0</td>\n",
              "    </tr>\n",
              "    <tr>\n",
              "      <th>2222</th>\n",
              "      <td>rem announce new glasgow concert us band rem h...</td>\n",
              "      <td>0</td>\n",
              "      <td>1</td>\n",
              "      <td>0</td>\n",
              "      <td>0</td>\n",
              "      <td>0</td>\n",
              "    </tr>\n",
              "    <tr>\n",
              "      <th>2223</th>\n",
              "      <td>how political squabbles snowball it s become c...</td>\n",
              "      <td>0</td>\n",
              "      <td>0</td>\n",
              "      <td>1</td>\n",
              "      <td>0</td>\n",
              "      <td>0</td>\n",
              "    </tr>\n",
              "    <tr>\n",
              "      <th>2224</th>\n",
              "      <td>souness delight at euro progress boss graeme s...</td>\n",
              "      <td>0</td>\n",
              "      <td>0</td>\n",
              "      <td>0</td>\n",
              "      <td>1</td>\n",
              "      <td>0</td>\n",
              "    </tr>\n",
              "  </tbody>\n",
              "</table>\n",
              "<p>2225 rows × 6 columns</p>\n",
              "</div>"
            ],
            "text/plain": [
              "                                                   text  business  ...  sport  tech\n",
              "0     tv future in the hands of viewers with home th...         0  ...      0     1\n",
              "1     worldcom boss  left books alone  former worldc...         1  ...      0     0\n",
              "2     tigers wary of farrell  gamble  leicester say ...         0  ...      1     0\n",
              "3     yeading face newcastle in fa cup premiership s...         0  ...      1     0\n",
              "4     ocean s twelve raids box office ocean s twelve...         0  ...      0     0\n",
              "...                                                 ...       ...  ...    ...   ...\n",
              "2220  cars pull down us retail figures us retail sal...         1  ...      0     0\n",
              "2221  kilroy unveils immigration policy ex-chatshow ...         0  ...      0     0\n",
              "2222  rem announce new glasgow concert us band rem h...         0  ...      0     0\n",
              "2223  how political squabbles snowball it s become c...         0  ...      0     0\n",
              "2224  souness delight at euro progress boss graeme s...         0  ...      1     0\n",
              "\n",
              "[2225 rows x 6 columns]"
            ]
          },
          "metadata": {
            "tags": []
          },
          "execution_count": 83
        }
      ]
    },
    {
      "cell_type": "code",
      "metadata": {
        "id": "Gb_QoQ3cPnQK"
      },
      "source": [
        "text = df_new['text'].values\n",
        "category = df_new[['business', 'entertainment','politics', 'sport', 'tech']].values"
      ],
      "execution_count": null,
      "outputs": []
    },
    {
      "cell_type": "code",
      "metadata": {
        "id": "9Ucx4ge0robi"
      },
      "source": [
        "from sklearn.model_selection import train_test_split\n",
        "text_latih, text_test, category_latih, category_test = train_test_split(text, category, test_size=0.2)\n",
        "\n",
        "from tensorflow.keras.preprocessing.text import Tokenizer\n",
        "from tensorflow.keras.preprocessing.sequence import pad_sequences\n",
        " \n",
        "tokenizer = Tokenizer(num_words=5000, oov_token='x')\n",
        "tokenizer.fit_on_texts(text_latih) \n",
        "tokenizer.fit_on_texts(text_test)\n",
        " \n",
        "sekuens_latih = tokenizer.texts_to_sequences(text_latih)\n",
        "sekuens_test = tokenizer.texts_to_sequences(text_test)\n",
        " \n",
        "padded_latih = pad_sequences(sekuens_latih) \n",
        "padded_test = pad_sequences(sekuens_test)"
      ],
      "execution_count": null,
      "outputs": []
    },
    {
      "cell_type": "code",
      "metadata": {
        "id": "L--3j5CKsOIZ"
      },
      "source": [
        "import tensorflow as tf\n",
        "model = tf.keras.Sequential([\n",
        "    tf.keras.layers.Embedding(input_dim=5000, output_dim=16),\n",
        "    tf.keras.layers.LSTM(64),\n",
        "    tf.keras.layers.Dense(128, activation='relu'),\n",
        "    tf.keras.layers.Dense(64, activation='relu'),\n",
        "    tf.keras.layers.Dense(5, activation='softmax')\n",
        "])\n",
        "model.compile(loss='categorical_crossentropy',optimizer='adam',metrics=['accuracy'])"
      ],
      "execution_count": null,
      "outputs": []
    },
    {
      "cell_type": "code",
      "metadata": {
        "id": "VDNRru6E6eFr"
      },
      "source": [
        "targetAccuracy = 0.93\n",
        "\n",
        "class clbk(tf.keras.callbacks.Callback):\n",
        "  def on_epoch_end(self, epoch, logs={}):\n",
        "    if(logs.get('accuracy') > targetAccuracy):\n",
        "      print(\"\\nTarget akurasi telah tercapai!\")\n",
        "      self.model.stop_training = True\n",
        "callback = clbk()"
      ],
      "execution_count": null,
      "outputs": []
    },
    {
      "cell_type": "code",
      "metadata": {
        "colab": {
          "base_uri": "https://localhost:8080/"
        },
        "id": "encfATD9sTXo",
        "outputId": "f43e2b3e-47e5-482b-c253-04f4c48a1128"
      },
      "source": [
        "epoch = 30\n",
        "batch = 128\n",
        "history = model.fit(\n",
        "    padded_latih,\n",
        "    category_latih,\n",
        "    batch_size=batch,\n",
        "    epochs=epoch,\n",
        "    callbacks=[callback], \n",
        "    validation_data=(padded_test, category_test), verbose=2)"
      ],
      "execution_count": null,
      "outputs": [
        {
          "output_type": "stream",
          "text": [
            "Epoch 1/30\n",
            "14/14 - 78s - loss: 1.6054 - accuracy: 0.2466 - val_loss: 1.6067 - val_accuracy: 0.2000\n",
            "Epoch 2/30\n",
            "14/14 - 75s - loss: 1.5902 - accuracy: 0.2573 - val_loss: 1.5860 - val_accuracy: 0.2854\n",
            "Epoch 3/30\n",
            "14/14 - 86s - loss: 1.4371 - accuracy: 0.3742 - val_loss: 1.3396 - val_accuracy: 0.4225\n",
            "Epoch 4/30\n",
            "14/14 - 79s - loss: 1.5541 - accuracy: 0.3781 - val_loss: 1.5438 - val_accuracy: 0.2607\n",
            "Epoch 5/30\n",
            "14/14 - 79s - loss: 1.4744 - accuracy: 0.3961 - val_loss: 1.4637 - val_accuracy: 0.4315\n",
            "Epoch 6/30\n",
            "14/14 - 79s - loss: 1.2776 - accuracy: 0.5725 - val_loss: 1.2443 - val_accuracy: 0.5079\n",
            "Epoch 7/30\n",
            "14/14 - 80s - loss: 0.9593 - accuracy: 0.6556 - val_loss: 1.0732 - val_accuracy: 0.5596\n",
            "Epoch 8/30\n",
            "14/14 - 79s - loss: 0.7188 - accuracy: 0.7236 - val_loss: 0.9719 - val_accuracy: 0.6360\n",
            "Epoch 9/30\n",
            "14/14 - 79s - loss: 0.4992 - accuracy: 0.8466 - val_loss: 0.8932 - val_accuracy: 0.7146\n",
            "Epoch 10/30\n",
            "14/14 - 79s - loss: 0.2829 - accuracy: 0.9281 - val_loss: 0.8266 - val_accuracy: 0.7551\n",
            "Epoch 11/30\n",
            "14/14 - 79s - loss: 0.1433 - accuracy: 0.9669 - val_loss: 0.9161 - val_accuracy: 0.7573\n",
            "\n",
            "Target akurasi telah tercapai!\n"
          ],
          "name": "stdout"
        }
      ]
    },
    {
      "cell_type": "code",
      "metadata": {
        "colab": {
          "base_uri": "https://localhost:8080/",
          "height": 295
        },
        "id": "LaSCwe8DMOrl",
        "outputId": "7cc7ea44-c1b1-4c8a-c0db-ee2d0a79f4c8"
      },
      "source": [
        "import matplotlib.pyplot as plt\n",
        "\n",
        "plt.plot(history.history['loss'])\n",
        "plt.title('Model loss')\n",
        "plt.ylabel('Loss')\n",
        "plt.xlabel('Epoch')\n",
        "plt.legend(['Train'], loc='upper right')\n",
        "plt.show()"
      ],
      "execution_count": null,
      "outputs": [
        {
          "output_type": "display_data",
          "data": {
            "image/png": "[encoded data removed]",
            "text/plain": [
              "<Figure size 432x288 with 1 Axes>"
            ]
          },
          "metadata": {
            "tags": [],
            "needs_background": "light"
          }
        }
      ]
    },
    {
      "cell_type": "code",
      "metadata": {
        "colab": {
          "base_uri": "https://localhost:8080/",
          "height": 295
        },
        "id": "Gt_5ZldfNGHE",
        "outputId": "c64debf6-cad3-4119-dfb1-31bb6ed2df37"
      },
      "source": [
        "plt.plot(history.history['accuracy'])\n",
        "plt.title('Model accuracy')\n",
        "plt.ylabel('Accuracy')\n",
        "plt.xlabel('Epoch')\n",
        "plt.legend(['Train'], loc='lower right')\n",
        "plt.show()"
      ],
      "execution_count": null,
      "outputs": [
        {
          "output_type": "display_data",
          "data": {
            "image/png": "[encoded data removed]",
            "text/plain": [
              "<Figure size 432x288 with 1 Axes>"
            ]
          },
          "metadata": {
            "tags": [],
            "needs_background": "light"
          }
        }
      ]
    }
  ]
}