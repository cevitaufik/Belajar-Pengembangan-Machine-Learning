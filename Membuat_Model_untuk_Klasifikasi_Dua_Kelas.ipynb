{
  "nbformat": 4,
  "nbformat_minor": 0,
  "metadata": {
    "colab": {
      "name": "Membuat Model untuk Klasifikasi Dua Kelas.ipynb",
      "provenance": [],
      "mount_file_id": "1sq2xoqLC0YGl4KIbeebx9a90ws8vAQkG",
      "authorship_tag": "ABX9TyPQ6htRXtd0wSuKQqpp0uM9"
    },
    "kernelspec": {
      "name": "python3",
      "display_name": "Python 3"
    },
    "language_info": {
      "name": "python"
    }
  },
  "cells": [
    {
      "cell_type": "code",
      "metadata": {
        "colab": {
          "base_uri": "https://localhost:8080/"
        },
        "id": "jJmR8GYllZWj",
        "outputId": "40c4618d-ba17-4716-8a7f-98368889e420"
      },
      "source": [
        "from google.colab import drive\n",
        "drive.mount('/content/gdrive')"
      ],
      "execution_count": null,
      "outputs": [
        {
          "output_type": "stream",
          "text": [
            "Mounted at /content/gdrive\n"
          ],
          "name": "stdout"
        }
      ]
    },
    {
      "cell_type": "code",
      "metadata": {
        "id": "QJJgASHhi39K"
      },
      "source": [
        "import pandas as pd\n",
        "df = pd.read_csv('/content/gdrive/MyDrive/citrus.csv')"
      ],
      "execution_count": null,
      "outputs": []
    },
    {
      "cell_type": "code",
      "metadata": {
        "colab": {
          "base_uri": "https://localhost:8080/"
        },
        "id": "SrNadJunjl8S",
        "outputId": "9f71e117-84aa-4c35-fb6f-4e3b4e64030d"
      },
      "source": [
        "df.info()"
      ],
      "execution_count": null,
      "outputs": [
        {
          "output_type": "stream",
          "text": [
            "<class 'pandas.core.frame.DataFrame'>\n",
            "RangeIndex: 10000 entries, 0 to 9999\n",
            "Data columns (total 6 columns):\n",
            " #   Column    Non-Null Count  Dtype  \n",
            "---  ------    --------------  -----  \n",
            " 0   name      10000 non-null  object \n",
            " 1   diameter  10000 non-null  float64\n",
            " 2   weight    10000 non-null  float64\n",
            " 3   red       10000 non-null  int64  \n",
            " 4   green     10000 non-null  int64  \n",
            " 5   blue      10000 non-null  int64  \n",
            "dtypes: float64(2), int64(3), object(1)\n",
            "memory usage: 468.9+ KB\n"
          ],
          "name": "stdout"
        }
      ]
    },
    {
      "cell_type": "code",
      "metadata": {
        "colab": {
          "base_uri": "https://localhost:8080/",
          "height": 204
        },
        "id": "H-ipOV8Fmcbw",
        "outputId": "6e6d1526-b733-4afd-fabf-8ef41df0a874"
      },
      "source": [
        "df.head()"
      ],
      "execution_count": null,
      "outputs": [
        {
          "output_type": "execute_result",
          "data": {
            "text/html": [
              "<div>\n",
              "<style scoped>\n",
              "    .dataframe tbody tr th:only-of-type {\n",
              "        vertical-align: middle;\n",
              "    }\n",
              "\n",
              "    .dataframe tbody tr th {\n",
              "        vertical-align: top;\n",
              "    }\n",
              "\n",
              "    .dataframe thead th {\n",
              "        text-align: right;\n",
              "    }\n",
              "</style>\n",
              "<table border=\"1\" class=\"dataframe\">\n",
              "  <thead>\n",
              "    <tr style=\"text-align: right;\">\n",
              "      <th></th>\n",
              "      <th>name</th>\n",
              "      <th>diameter</th>\n",
              "      <th>weight</th>\n",
              "      <th>red</th>\n",
              "      <th>green</th>\n",
              "      <th>blue</th>\n",
              "    </tr>\n",
              "  </thead>\n",
              "  <tbody>\n",
              "    <tr>\n",
              "      <th>0</th>\n",
              "      <td>orange</td>\n",
              "      <td>2.96</td>\n",
              "      <td>86.76</td>\n",
              "      <td>172</td>\n",
              "      <td>85</td>\n",
              "      <td>2</td>\n",
              "    </tr>\n",
              "    <tr>\n",
              "      <th>1</th>\n",
              "      <td>orange</td>\n",
              "      <td>3.91</td>\n",
              "      <td>88.05</td>\n",
              "      <td>166</td>\n",
              "      <td>78</td>\n",
              "      <td>3</td>\n",
              "    </tr>\n",
              "    <tr>\n",
              "      <th>2</th>\n",
              "      <td>orange</td>\n",
              "      <td>4.42</td>\n",
              "      <td>95.17</td>\n",
              "      <td>156</td>\n",
              "      <td>81</td>\n",
              "      <td>2</td>\n",
              "    </tr>\n",
              "    <tr>\n",
              "      <th>3</th>\n",
              "      <td>orange</td>\n",
              "      <td>4.47</td>\n",
              "      <td>95.60</td>\n",
              "      <td>163</td>\n",
              "      <td>81</td>\n",
              "      <td>4</td>\n",
              "    </tr>\n",
              "    <tr>\n",
              "      <th>4</th>\n",
              "      <td>orange</td>\n",
              "      <td>4.48</td>\n",
              "      <td>95.76</td>\n",
              "      <td>161</td>\n",
              "      <td>72</td>\n",
              "      <td>9</td>\n",
              "    </tr>\n",
              "  </tbody>\n",
              "</table>\n",
              "</div>"
            ],
            "text/plain": [
              "     name  diameter  weight  red  green  blue\n",
              "0  orange      2.96   86.76  172     85     2\n",
              "1  orange      3.91   88.05  166     78     3\n",
              "2  orange      4.42   95.17  156     81     2\n",
              "3  orange      4.47   95.60  163     81     4\n",
              "4  orange      4.48   95.76  161     72     9"
            ]
          },
          "metadata": {
            "tags": []
          },
          "execution_count": 8
        }
      ]
    },
    {
      "cell_type": "code",
      "metadata": {
        "colab": {
          "base_uri": "https://localhost:8080/"
        },
        "id": "R7KKniUcmoun",
        "outputId": "de84100c-d688-45d8-f2b1-19e2aebd16e6"
      },
      "source": [
        "df.name[df.name == 'orange'] = 0\n",
        "df.name[df.name == 'grapefruit'] = 1"
      ],
      "execution_count": null,
      "outputs": [
        {
          "output_type": "stream",
          "text": [
            "/usr/local/lib/python3.7/dist-packages/ipykernel_launcher.py:1: SettingWithCopyWarning: \n",
            "A value is trying to be set on a copy of a slice from a DataFrame\n",
            "\n",
            "See the caveats in the documentation: https://pandas.pydata.org/pandas-docs/stable/user_guide/indexing.html#returning-a-view-versus-a-copy\n",
            "  \"\"\"Entry point for launching an IPython kernel.\n",
            "/usr/local/lib/python3.7/dist-packages/ipykernel_launcher.py:2: SettingWithCopyWarning: \n",
            "A value is trying to be set on a copy of a slice from a DataFrame\n",
            "\n",
            "See the caveats in the documentation: https://pandas.pydata.org/pandas-docs/stable/user_guide/indexing.html#returning-a-view-versus-a-copy\n",
            "  \n"
          ],
          "name": "stderr"
        }
      ]
    },
    {
      "cell_type": "code",
      "metadata": {
        "id": "ovOQC8vknDcs"
      },
      "source": [
        "dataset = df.values"
      ],
      "execution_count": null,
      "outputs": []
    },
    {
      "cell_type": "code",
      "metadata": {
        "colab": {
          "base_uri": "https://localhost:8080/"
        },
        "id": "Gez9AWtOnQ0L",
        "outputId": "87b49fa5-414c-4d17-9964-c51b5d62f70f"
      },
      "source": [
        "dataset"
      ],
      "execution_count": null,
      "outputs": [
        {
          "output_type": "execute_result",
          "data": {
            "text/plain": [
              "array([[0, 2.96, 86.76, 172, 85, 2],\n",
              "       [0, 3.91, 88.05, 166, 78, 3],\n",
              "       [0, 4.42, 95.17, 156, 81, 2],\n",
              "       ...,\n",
              "       [1, 15.59, 256.5, 168, 82, 20],\n",
              "       [1, 15.92, 260.14, 142, 72, 11],\n",
              "       [1, 16.45, 261.51, 152, 74, 2]], dtype=object)"
            ]
          },
          "metadata": {
            "tags": []
          },
          "execution_count": 12
        }
      ]
    },
    {
      "cell_type": "code",
      "metadata": {
        "id": "8k7T0sJ3ncTa"
      },
      "source": [
        "X = dataset[:,1:6]"
      ],
      "execution_count": null,
      "outputs": []
    },
    {
      "cell_type": "code",
      "metadata": {
        "id": "fJFjX7C4no-L"
      },
      "source": [
        "y = dataset[:,0]"
      ],
      "execution_count": null,
      "outputs": []
    },
    {
      "cell_type": "code",
      "metadata": {
        "colab": {
          "base_uri": "https://localhost:8080/"
        },
        "id": "X6tI-7iCn1ta",
        "outputId": "5279a1dc-1905-4f57-f07d-ba86a1ae5241"
      },
      "source": [
        "# normalization\n",
        "from sklearn import preprocessing\n",
        "min_max_scaler = preprocessing.MinMaxScaler()\n",
        "X_scale = min_max_scaler.fit_transform(X)\n",
        "X_scale"
      ],
      "execution_count": null,
      "outputs": [
        {
          "output_type": "execute_result",
          "data": {
            "text/plain": [
              "array([[0.        , 0.        , 0.74025974, 0.63529412, 0.        ],\n",
              "       [0.07042254, 0.00738197, 0.66233766, 0.55294118, 0.01851852],\n",
              "       [0.10822832, 0.04812589, 0.53246753, 0.58823529, 0.        ],\n",
              "       ...,\n",
              "       [0.93624907, 0.97133047, 0.68831169, 0.6       , 0.33333333],\n",
              "       [0.96071164, 0.99216023, 0.35064935, 0.48235294, 0.16666667],\n",
              "       [1.        , 1.        , 0.48051948, 0.50588235, 0.        ]])"
            ]
          },
          "metadata": {
            "tags": []
          },
          "execution_count": 15
        }
      ]
    },
    {
      "cell_type": "code",
      "metadata": {
        "id": "V7nx1a01obBR"
      },
      "source": [
        "# pisahkan data training dan testing\n",
        "from sklearn.model_selection import train_test_split\n",
        "X_train, X_test, Y_train, Y_test = train_test_split(X_scale, y, test_size=0.3)"
      ],
      "execution_count": null,
      "outputs": []
    },
    {
      "cell_type": "code",
      "metadata": {
        "id": "09VjLolno-SJ"
      },
      "source": [
        "import numpy as np\n",
        "\n",
        "Y_train = Y_train.astype(np.float32)\n",
        "Y_test = Y_test.astype(np.float32)"
      ],
      "execution_count": null,
      "outputs": []
    },
    {
      "cell_type": "code",
      "metadata": {
        "id": "OJGk5VFSpUXZ"
      },
      "source": [
        "from keras.models import Sequential\n",
        "from keras.layers import Dense"
      ],
      "execution_count": null,
      "outputs": []
    },
    {
      "cell_type": "code",
      "metadata": {
        "id": "h8fQH9Yopsjt"
      },
      "source": [
        "model = Sequential([    \n",
        "                    Dense(32, activation='relu', input_shape=(5,)),    \n",
        "                    Dense(32, activation='relu'),    \n",
        "                    Dense(1, activation='sigmoid'),])"
      ],
      "execution_count": null,
      "outputs": []
    },
    {
      "cell_type": "code",
      "metadata": {
        "id": "go86IXcYp6tW"
      },
      "source": [
        "model.compile(optimizer='sgd',\n",
        "              loss='binary_crossentropy',\n",
        "              metrics=['accuracy'])"
      ],
      "execution_count": null,
      "outputs": []
    },
    {
      "cell_type": "code",
      "metadata": {
        "colab": {
          "base_uri": "https://localhost:8080/"
        },
        "id": "qQi19yPUp-os",
        "outputId": "0cdc46e9-9625-4f7f-fc8f-c601c6c4e897"
      },
      "source": [
        "model.fit(X_train, Y_train, epochs=100)"
      ],
      "execution_count": null,
      "outputs": [
        {
          "output_type": "stream",
          "text": [
            "Epoch 1/100\n",
            "219/219 [==============================] - 15s 1ms/step - loss: 0.6834 - accuracy: 0.5064\n",
            "Epoch 2/100\n",
            "219/219 [==============================] - 0s 1ms/step - loss: 0.6026 - accuracy: 0.8442\n",
            "Epoch 3/100\n",
            "219/219 [==============================] - 0s 1ms/step - loss: 0.5312 - accuracy: 0.9053\n",
            "Epoch 4/100\n",
            "219/219 [==============================] - 0s 1ms/step - loss: 0.4343 - accuracy: 0.9206\n",
            "Epoch 5/100\n",
            "219/219 [==============================] - 0s 1ms/step - loss: 0.3498 - accuracy: 0.9254\n",
            "Epoch 6/100\n",
            "219/219 [==============================] - 0s 1ms/step - loss: 0.2884 - accuracy: 0.9278\n",
            "Epoch 7/100\n",
            "219/219 [==============================] - 0s 1ms/step - loss: 0.2474 - accuracy: 0.9304\n",
            "Epoch 8/100\n",
            "219/219 [==============================] - 0s 1ms/step - loss: 0.2291 - accuracy: 0.9241\n",
            "Epoch 9/100\n",
            "219/219 [==============================] - 0s 1ms/step - loss: 0.2054 - accuracy: 0.9299\n",
            "Epoch 10/100\n",
            "219/219 [==============================] - 0s 1ms/step - loss: 0.1960 - accuracy: 0.9311\n",
            "Epoch 11/100\n",
            "219/219 [==============================] - 0s 1ms/step - loss: 0.1991 - accuracy: 0.9203\n",
            "Epoch 12/100\n",
            "219/219 [==============================] - 0s 1ms/step - loss: 0.1888 - accuracy: 0.9279\n",
            "Epoch 13/100\n",
            "219/219 [==============================] - 0s 1ms/step - loss: 0.1890 - accuracy: 0.9246\n",
            "Epoch 14/100\n",
            "219/219 [==============================] - 0s 1ms/step - loss: 0.1937 - accuracy: 0.9263\n",
            "Epoch 15/100\n",
            "219/219 [==============================] - 0s 1ms/step - loss: 0.1802 - accuracy: 0.9310\n",
            "Epoch 16/100\n",
            "219/219 [==============================] - 0s 1ms/step - loss: 0.1869 - accuracy: 0.9211\n",
            "Epoch 17/100\n",
            "219/219 [==============================] - 0s 1ms/step - loss: 0.1787 - accuracy: 0.9282\n",
            "Epoch 18/100\n",
            "219/219 [==============================] - 0s 1ms/step - loss: 0.1842 - accuracy: 0.9244\n",
            "Epoch 19/100\n",
            "219/219 [==============================] - 0s 1ms/step - loss: 0.1827 - accuracy: 0.9263\n",
            "Epoch 20/100\n",
            "219/219 [==============================] - 0s 1ms/step - loss: 0.1765 - accuracy: 0.9320\n",
            "Epoch 21/100\n",
            "219/219 [==============================] - 0s 1ms/step - loss: 0.1929 - accuracy: 0.9229\n",
            "Epoch 22/100\n",
            "219/219 [==============================] - 0s 1ms/step - loss: 0.1744 - accuracy: 0.9303\n",
            "Epoch 23/100\n",
            "219/219 [==============================] - 0s 1ms/step - loss: 0.1783 - accuracy: 0.9288\n",
            "Epoch 24/100\n",
            "219/219 [==============================] - 0s 1ms/step - loss: 0.1838 - accuracy: 0.9269\n",
            "Epoch 25/100\n",
            "219/219 [==============================] - 0s 1ms/step - loss: 0.1842 - accuracy: 0.9289\n",
            "Epoch 26/100\n",
            "219/219 [==============================] - 0s 1ms/step - loss: 0.1864 - accuracy: 0.9274\n",
            "Epoch 27/100\n",
            "219/219 [==============================] - 0s 1ms/step - loss: 0.1842 - accuracy: 0.9272\n",
            "Epoch 28/100\n",
            "219/219 [==============================] - 0s 1ms/step - loss: 0.1881 - accuracy: 0.9252\n",
            "Epoch 29/100\n",
            "219/219 [==============================] - 0s 1ms/step - loss: 0.1821 - accuracy: 0.9265\n",
            "Epoch 30/100\n",
            "219/219 [==============================] - 0s 1ms/step - loss: 0.1870 - accuracy: 0.9267\n",
            "Epoch 31/100\n",
            "219/219 [==============================] - 0s 1ms/step - loss: 0.1923 - accuracy: 0.9211\n",
            "Epoch 32/100\n",
            "219/219 [==============================] - 0s 1ms/step - loss: 0.1782 - accuracy: 0.9272\n",
            "Epoch 33/100\n",
            "219/219 [==============================] - 0s 1ms/step - loss: 0.1811 - accuracy: 0.9276\n",
            "Epoch 34/100\n",
            "219/219 [==============================] - 0s 1ms/step - loss: 0.1812 - accuracy: 0.9268\n",
            "Epoch 35/100\n",
            "219/219 [==============================] - 0s 1ms/step - loss: 0.1928 - accuracy: 0.9208\n",
            "Epoch 36/100\n",
            "219/219 [==============================] - 0s 1ms/step - loss: 0.1809 - accuracy: 0.9257\n",
            "Epoch 37/100\n",
            "219/219 [==============================] - 0s 1ms/step - loss: 0.1991 - accuracy: 0.9220\n",
            "Epoch 38/100\n",
            "219/219 [==============================] - 0s 1ms/step - loss: 0.1750 - accuracy: 0.9297\n",
            "Epoch 39/100\n",
            "219/219 [==============================] - 0s 1ms/step - loss: 0.1815 - accuracy: 0.9269\n",
            "Epoch 40/100\n",
            "219/219 [==============================] - 0s 1ms/step - loss: 0.1826 - accuracy: 0.9233\n",
            "Epoch 41/100\n",
            "219/219 [==============================] - 0s 1ms/step - loss: 0.1762 - accuracy: 0.9277\n",
            "Epoch 42/100\n",
            "219/219 [==============================] - 0s 1ms/step - loss: 0.1798 - accuracy: 0.9290\n",
            "Epoch 43/100\n",
            "219/219 [==============================] - 0s 1ms/step - loss: 0.1864 - accuracy: 0.9237\n",
            "Epoch 44/100\n",
            "219/219 [==============================] - 0s 1ms/step - loss: 0.1826 - accuracy: 0.9245\n",
            "Epoch 45/100\n",
            "219/219 [==============================] - 0s 1ms/step - loss: 0.1744 - accuracy: 0.9313\n",
            "Epoch 46/100\n",
            "219/219 [==============================] - 0s 1ms/step - loss: 0.1807 - accuracy: 0.9281\n",
            "Epoch 47/100\n",
            "219/219 [==============================] - 0s 1ms/step - loss: 0.1901 - accuracy: 0.9219\n",
            "Epoch 48/100\n",
            "219/219 [==============================] - 0s 2ms/step - loss: 0.1785 - accuracy: 0.9284\n",
            "Epoch 49/100\n",
            "219/219 [==============================] - 0s 1ms/step - loss: 0.1870 - accuracy: 0.9230\n",
            "Epoch 50/100\n",
            "219/219 [==============================] - 0s 1ms/step - loss: 0.1840 - accuracy: 0.9274\n",
            "Epoch 51/100\n",
            "219/219 [==============================] - 0s 1ms/step - loss: 0.1784 - accuracy: 0.9283\n",
            "Epoch 52/100\n",
            "219/219 [==============================] - 0s 1ms/step - loss: 0.1802 - accuracy: 0.9303\n",
            "Epoch 53/100\n",
            "219/219 [==============================] - 0s 1ms/step - loss: 0.1743 - accuracy: 0.9290\n",
            "Epoch 54/100\n",
            "219/219 [==============================] - 0s 2ms/step - loss: 0.1800 - accuracy: 0.9287\n",
            "Epoch 55/100\n",
            "219/219 [==============================] - 0s 1ms/step - loss: 0.1791 - accuracy: 0.9246\n",
            "Epoch 56/100\n",
            "219/219 [==============================] - 0s 1ms/step - loss: 0.1785 - accuracy: 0.9300\n",
            "Epoch 57/100\n",
            "219/219 [==============================] - 0s 1ms/step - loss: 0.1741 - accuracy: 0.9308\n",
            "Epoch 58/100\n",
            "219/219 [==============================] - 0s 1ms/step - loss: 0.1770 - accuracy: 0.9290\n",
            "Epoch 59/100\n",
            "219/219 [==============================] - 0s 2ms/step - loss: 0.1829 - accuracy: 0.9220\n",
            "Epoch 60/100\n",
            "219/219 [==============================] - 0s 1ms/step - loss: 0.1775 - accuracy: 0.9292\n",
            "Epoch 61/100\n",
            "219/219 [==============================] - 0s 1ms/step - loss: 0.1824 - accuracy: 0.9261\n",
            "Epoch 62/100\n",
            "219/219 [==============================] - 0s 1ms/step - loss: 0.1803 - accuracy: 0.9262\n",
            "Epoch 63/100\n",
            "219/219 [==============================] - 0s 1ms/step - loss: 0.1813 - accuracy: 0.9253\n",
            "Epoch 64/100\n",
            "219/219 [==============================] - 0s 1ms/step - loss: 0.1909 - accuracy: 0.9233\n",
            "Epoch 65/100\n",
            "219/219 [==============================] - 0s 1ms/step - loss: 0.1861 - accuracy: 0.9237\n",
            "Epoch 66/100\n",
            "219/219 [==============================] - 0s 1ms/step - loss: 0.1925 - accuracy: 0.9235\n",
            "Epoch 67/100\n",
            "219/219 [==============================] - 0s 1ms/step - loss: 0.1891 - accuracy: 0.9216\n",
            "Epoch 68/100\n",
            "219/219 [==============================] - 0s 1ms/step - loss: 0.1738 - accuracy: 0.9311\n",
            "Epoch 69/100\n",
            "219/219 [==============================] - 0s 1ms/step - loss: 0.1797 - accuracy: 0.9311\n",
            "Epoch 70/100\n",
            "219/219 [==============================] - 0s 1ms/step - loss: 0.1810 - accuracy: 0.9309\n",
            "Epoch 71/100\n",
            "219/219 [==============================] - 0s 1ms/step - loss: 0.1829 - accuracy: 0.9247\n",
            "Epoch 72/100\n",
            "219/219 [==============================] - 0s 1ms/step - loss: 0.1814 - accuracy: 0.9299\n",
            "Epoch 73/100\n",
            "219/219 [==============================] - 0s 1ms/step - loss: 0.1825 - accuracy: 0.9254\n",
            "Epoch 74/100\n",
            "219/219 [==============================] - 0s 1ms/step - loss: 0.1768 - accuracy: 0.9284\n",
            "Epoch 75/100\n",
            "219/219 [==============================] - 0s 1ms/step - loss: 0.1855 - accuracy: 0.9241\n",
            "Epoch 76/100\n",
            "219/219 [==============================] - 0s 1ms/step - loss: 0.1859 - accuracy: 0.9260\n",
            "Epoch 77/100\n",
            "219/219 [==============================] - 0s 1ms/step - loss: 0.1784 - accuracy: 0.9268\n",
            "Epoch 78/100\n",
            "219/219 [==============================] - 0s 1ms/step - loss: 0.1819 - accuracy: 0.9262\n",
            "Epoch 79/100\n",
            "219/219 [==============================] - 0s 1ms/step - loss: 0.1762 - accuracy: 0.9287\n",
            "Epoch 80/100\n",
            "219/219 [==============================] - 0s 1ms/step - loss: 0.1887 - accuracy: 0.9220\n",
            "Epoch 81/100\n",
            "219/219 [==============================] - 0s 1ms/step - loss: 0.1814 - accuracy: 0.9297\n",
            "Epoch 82/100\n",
            "219/219 [==============================] - 0s 1ms/step - loss: 0.1879 - accuracy: 0.9237\n",
            "Epoch 83/100\n",
            "219/219 [==============================] - 0s 1ms/step - loss: 0.1868 - accuracy: 0.9249\n",
            "Epoch 84/100\n",
            "219/219 [==============================] - 0s 1ms/step - loss: 0.1803 - accuracy: 0.9277\n",
            "Epoch 85/100\n",
            "219/219 [==============================] - 0s 1ms/step - loss: 0.1690 - accuracy: 0.9318\n",
            "Epoch 86/100\n",
            "219/219 [==============================] - 0s 1ms/step - loss: 0.1770 - accuracy: 0.9275\n",
            "Epoch 87/100\n",
            "219/219 [==============================] - 0s 1ms/step - loss: 0.1871 - accuracy: 0.9215\n",
            "Epoch 88/100\n",
            "219/219 [==============================] - 0s 1ms/step - loss: 0.1674 - accuracy: 0.9334\n",
            "Epoch 89/100\n",
            "219/219 [==============================] - 0s 1ms/step - loss: 0.1853 - accuracy: 0.9248\n",
            "Epoch 90/100\n",
            "219/219 [==============================] - 0s 1ms/step - loss: 0.1774 - accuracy: 0.9273\n",
            "Epoch 91/100\n",
            "219/219 [==============================] - 0s 1ms/step - loss: 0.1791 - accuracy: 0.9256\n",
            "Epoch 92/100\n",
            "219/219 [==============================] - 0s 1ms/step - loss: 0.1807 - accuracy: 0.9255\n",
            "Epoch 93/100\n",
            "219/219 [==============================] - 0s 1ms/step - loss: 0.1890 - accuracy: 0.9243\n",
            "Epoch 94/100\n",
            "219/219 [==============================] - 0s 1ms/step - loss: 0.1826 - accuracy: 0.9272\n",
            "Epoch 95/100\n",
            "219/219 [==============================] - 0s 1ms/step - loss: 0.1801 - accuracy: 0.9250\n",
            "Epoch 96/100\n",
            "219/219 [==============================] - 0s 1ms/step - loss: 0.1812 - accuracy: 0.9280\n",
            "Epoch 97/100\n",
            "219/219 [==============================] - 0s 1ms/step - loss: 0.1804 - accuracy: 0.9292\n",
            "Epoch 98/100\n",
            "219/219 [==============================] - 0s 1ms/step - loss: 0.1760 - accuracy: 0.9288\n",
            "Epoch 99/100\n",
            "219/219 [==============================] - 0s 1ms/step - loss: 0.1658 - accuracy: 0.9316\n",
            "Epoch 100/100\n",
            "219/219 [==============================] - 0s 1ms/step - loss: 0.1767 - accuracy: 0.9282\n"
          ],
          "name": "stdout"
        },
        {
          "output_type": "execute_result",
          "data": {
            "text/plain": [
              "<keras.callbacks.History at 0x7f90860844d0>"
            ]
          },
          "metadata": {
            "tags": []
          },
          "execution_count": 22
        }
      ]
    },
    {
      "cell_type": "code",
      "metadata": {
        "id": "65APi6RcqVMt",
        "colab": {
          "base_uri": "https://localhost:8080/"
        },
        "outputId": "82a1ecf3-ad57-4f5c-bd0c-76a3a49f677c"
      },
      "source": [
        "model.evaluate(X_test, Y_test)\n",
        "# elemen pertama adalah loss dan elemen kedua adalah akurasi"
      ],
      "execution_count": null,
      "outputs": [
        {
          "output_type": "stream",
          "text": [
            "94/94 [==============================] - 1s 1ms/step - loss: 0.1669 - accuracy: 0.9300\n"
          ],
          "name": "stdout"
        },
        {
          "output_type": "execute_result",
          "data": {
            "text/plain": [
              "[0.16691972315311432, 0.9300000071525574]"
            ]
          },
          "metadata": {
            "tags": []
          },
          "execution_count": 23
        }
      ]
    }
  ]
}