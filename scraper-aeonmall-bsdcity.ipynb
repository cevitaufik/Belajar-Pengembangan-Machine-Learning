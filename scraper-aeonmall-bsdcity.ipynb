{
 "cells": [
  {
   "cell_type": "code",
   "execution_count": null,
   "metadata": {},
   "outputs": [],
   "source": [
    "pip install requests"
   ]
  },
  {
   "cell_type": "code",
   "execution_count": null,
   "metadata": {},
   "outputs": [],
   "source": [
    "pip install beautifulsoup4"
   ]
  },
  {
   "cell_type": "code",
   "execution_count": 8,
   "metadata": {},
   "outputs": [],
   "source": [
    "import requests\n",
    "from bs4 import BeautifulSoup\n",
    "import pandas as pd"
   ]
  },
  {
   "cell_type": "code",
   "execution_count": 20,
   "metadata": {},
   "outputs": [],
   "source": [
    "baseURL = \"https://aeonmall-bsdcity.com/shopping.php?page=\"\n",
    "\n",
    "name = []\n",
    "type = []\n",
    "floor = []\n",
    "\n",
    "totalPage = 20\n",
    "currentPage = 1\n",
    "\n",
    "while (currentPage <= totalPage ):\n",
    "  page = requests.get(baseURL + str(currentPage))\n",
    "  soup = BeautifulSoup(page.content, \"html.parser\")\n",
    "\n",
    "  datas = soup.find_all(\"div\", class_=\"desc-shopping\")\n",
    "\n",
    "  for data in datas:\n",
    "    name.append(data.find(\"h3\").text)\n",
    "    type.append(data.find(\"span\").text)\n",
    "    floor.append(data.find(\"div\", class_=\"tmaps\").text)\n",
    "  \n",
    "  currentPage += 1"
   ]
  },
  {
   "cell_type": "code",
   "execution_count": 22,
   "metadata": {},
   "outputs": [
    {
     "data": {
      "text/html": [
       "<div>\n",
       "<style scoped>\n",
       "    .dataframe tbody tr th:only-of-type {\n",
       "        vertical-align: middle;\n",
       "    }\n",
       "\n",
       "    .dataframe tbody tr th {\n",
       "        vertical-align: top;\n",
       "    }\n",
       "\n",
       "    .dataframe thead th {\n",
       "        text-align: right;\n",
       "    }\n",
       "</style>\n",
       "<table border=\"1\" class=\"dataframe\">\n",
       "  <thead>\n",
       "    <tr style=\"text-align: right;\">\n",
       "      <th></th>\n",
       "      <th>name</th>\n",
       "      <th>type</th>\n",
       "      <th>floor</th>\n",
       "    </tr>\n",
       "  </thead>\n",
       "  <tbody>\n",
       "    <tr>\n",
       "      <th>0</th>\n",
       "      <td>Adidas</td>\n",
       "      <td>FASHION</td>\n",
       "      <td>GF</td>\n",
       "    </tr>\n",
       "    <tr>\n",
       "      <th>1</th>\n",
       "      <td>AEON BSD CITY Dept Store 1F</td>\n",
       "      <td>FASHION</td>\n",
       "      <td>1F</td>\n",
       "    </tr>\n",
       "    <tr>\n",
       "      <th>2</th>\n",
       "      <td>AEON BSD CITY Dept Store 2F</td>\n",
       "      <td>FASHION</td>\n",
       "      <td>2F</td>\n",
       "    </tr>\n",
       "    <tr>\n",
       "      <th>3</th>\n",
       "      <td>AEON BSD CITY Supermarket GF</td>\n",
       "      <td>FOOD</td>\n",
       "      <td>GF</td>\n",
       "    </tr>\n",
       "    <tr>\n",
       "      <th>4</th>\n",
       "      <td>AEON Credit Service</td>\n",
       "      <td>SERVICE</td>\n",
       "      <td>GF</td>\n",
       "    </tr>\n",
       "    <tr>\n",
       "      <th>...</th>\n",
       "      <td>...</td>\n",
       "      <td>...</td>\n",
       "      <td>...</td>\n",
       "    </tr>\n",
       "    <tr>\n",
       "      <th>226</th>\n",
       "      <td>Yoshinoya</td>\n",
       "      <td>FOOD</td>\n",
       "      <td>GF</td>\n",
       "    </tr>\n",
       "    <tr>\n",
       "      <th>227</th>\n",
       "      <td>Yuan Market</td>\n",
       "      <td>FASHION</td>\n",
       "      <td>2F</td>\n",
       "    </tr>\n",
       "    <tr>\n",
       "      <th>228</th>\n",
       "      <td>Yves Rocher</td>\n",
       "      <td>GOODS</td>\n",
       "      <td>GF</td>\n",
       "    </tr>\n",
       "    <tr>\n",
       "      <th>229</th>\n",
       "      <td>Zenbu</td>\n",
       "      <td>FOOD</td>\n",
       "      <td>GF</td>\n",
       "    </tr>\n",
       "    <tr>\n",
       "      <th>230</th>\n",
       "      <td>Zoomoov</td>\n",
       "      <td>SERVICE</td>\n",
       "      <td>2F</td>\n",
       "    </tr>\n",
       "  </tbody>\n",
       "</table>\n",
       "<p>231 rows × 3 columns</p>\n",
       "</div>"
      ],
      "text/plain": [
       "                             name     type floor\n",
       "0                         Adidas   FASHION    GF\n",
       "1     AEON BSD CITY Dept Store 1F  FASHION    1F\n",
       "2     AEON BSD CITY Dept Store 2F  FASHION    2F\n",
       "3    AEON BSD CITY Supermarket GF     FOOD    GF\n",
       "4            AEON Credit Service   SERVICE    GF\n",
       "..                            ...      ...   ...\n",
       "226                     Yoshinoya     FOOD    GF\n",
       "227                   Yuan Market  FASHION    2F\n",
       "228                   Yves Rocher    GOODS    GF\n",
       "229                        Zenbu      FOOD    GF\n",
       "230                       Zoomoov  SERVICE    2F\n",
       "\n",
       "[231 rows x 3 columns]"
      ]
     },
     "execution_count": 22,
     "metadata": {},
     "output_type": "execute_result"
    }
   ],
   "source": [
    "format = {\n",
    "  'name' : name,\n",
    "  'type' : type,\n",
    "  'floor' : floor,\n",
    "}\n",
    "\n",
    "df = pd.DataFrame(format)\n",
    "df"
   ]
  },
  {
   "cell_type": "code",
   "execution_count": 23,
   "metadata": {},
   "outputs": [],
   "source": [
    "df.to_excel('tenances.xlsx')"
   ]
  }
 ],
 "metadata": {
  "kernelspec": {
   "display_name": "Python 3.9.12 ('base')",
   "language": "python",
   "name": "python3"
  },
  "language_info": {
   "codemirror_mode": {
    "name": "ipython",
    "version": 3
   },
   "file_extension": ".py",
   "mimetype": "text/x-python",
   "name": "python",
   "nbconvert_exporter": "python",
   "pygments_lexer": "ipython3",
   "version": "3.9.12"
  },
  "orig_nbformat": 4,
  "vscode": {
   "interpreter": {
    "hash": "16f5b46f222e2a3e8d4adbf7141cae37b71ed37616e60735fa5d1164a1bc3ada"
   }
  }
 },
 "nbformat": 4,
 "nbformat_minor": 2
}
