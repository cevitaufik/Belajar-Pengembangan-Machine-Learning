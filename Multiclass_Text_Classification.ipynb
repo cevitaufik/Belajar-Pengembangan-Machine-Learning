{
  "nbformat": 4,
  "nbformat_minor": 0,
  "metadata": {
    "colab": {
      "name": "Multiclass Text Classification.ipynb",
      "provenance": [],
      "mount_file_id": "1uPJBj2lZ_z2dNoaEeWm55NkM5pLew2eC",
      "authorship_tag": "ABX9TyPsbKJGb9Abi6TeFElzzkv9",
      "include_colab_link": true
    },
    "kernelspec": {
      "name": "python3",
      "display_name": "Python 3"
    },
    "language_info": {
      "name": "python"
    }
  },
  "cells": [
    {
      "cell_type": "markdown",
      "metadata": {
        "id": "view-in-github",
        "colab_type": "text"
      },
      "source": [
        "<a href=\"https://colab.research.google.com/github/cevitaufik/Belajar-Pengembangan-Machine-Learning/blob/main/Multiclass_Text_Classification.ipynb\" target=\"_parent\"><img src=\"https://colab.research.google.com/assets/colab-badge.svg\" alt=\"Open In Colab\"/></a>"
      ]
    },
    {
      "cell_type": "code",
      "metadata": {
        "colab": {
          "base_uri": "https://localhost:8080/",
          "height": 204
        },
        "id": "IyrgOYqI_uzD",
        "outputId": "893cf009-319e-43ad-96c1-25db29626cda"
      },
      "source": [
        "import pandas as pd\n",
        "df = pd.read_csv('imdb_indonesian.csv')\n",
        "df = df.drop(columns=['judul_film'])\n",
        "df.head()"
      ],
      "execution_count": 2,
      "outputs": [
        {
          "output_type": "execute_result",
          "data": {
            "text/html": [
              "<div>\n",
              "<style scoped>\n",
              "    .dataframe tbody tr th:only-of-type {\n",
              "        vertical-align: middle;\n",
              "    }\n",
              "\n",
              "    .dataframe tbody tr th {\n",
              "        vertical-align: top;\n",
              "    }\n",
              "\n",
              "    .dataframe thead th {\n",
              "        text-align: right;\n",
              "    }\n",
              "</style>\n",
              "<table border=\"1\" class=\"dataframe\">\n",
              "  <thead>\n",
              "    <tr style=\"text-align: right;\">\n",
              "      <th></th>\n",
              "      <th>ringkasan_sinopsis</th>\n",
              "      <th>genre</th>\n",
              "    </tr>\n",
              "  </thead>\n",
              "  <tbody>\n",
              "    <tr>\n",
              "      <th>0</th>\n",
              "      <td>Raden Mas Said putra sulung Tumenggung Wilarik...</td>\n",
              "      <td>Drama</td>\n",
              "    </tr>\n",
              "    <tr>\n",
              "      <th>1</th>\n",
              "      <td>Soe Hok Gie adalah seorang aktivis yang hidup ...</td>\n",
              "      <td>Drama</td>\n",
              "    </tr>\n",
              "    <tr>\n",
              "      <th>2</th>\n",
              "      <td>Guru Bangsa Tjokroaminoto menceritakan tentang...</td>\n",
              "      <td>Drama</td>\n",
              "    </tr>\n",
              "    <tr>\n",
              "      <th>3</th>\n",
              "      <td>POL menceritakan kisah hidup yang luar biasa d...</td>\n",
              "      <td>Drama</td>\n",
              "    </tr>\n",
              "    <tr>\n",
              "      <th>4</th>\n",
              "      <td>Perjalanan pahlawan Indonesia KH Ahmad Dahlan ...</td>\n",
              "      <td>Drama</td>\n",
              "    </tr>\n",
              "  </tbody>\n",
              "</table>\n",
              "</div>"
            ],
            "text/plain": [
              "                                  ringkasan_sinopsis  genre\n",
              "0  Raden Mas Said putra sulung Tumenggung Wilarik...  Drama\n",
              "1  Soe Hok Gie adalah seorang aktivis yang hidup ...  Drama\n",
              "2  Guru Bangsa Tjokroaminoto menceritakan tentang...  Drama\n",
              "3  POL menceritakan kisah hidup yang luar biasa d...  Drama\n",
              "4  Perjalanan pahlawan Indonesia KH Ahmad Dahlan ...  Drama"
            ]
          },
          "metadata": {
            "tags": []
          },
          "execution_count": 2
        }
      ]
    },
    {
      "cell_type": "code",
      "metadata": {
        "colab": {
          "base_uri": "https://localhost:8080/",
          "height": 419
        },
        "id": "cr8_onzwBY6i",
        "outputId": "2b7fbd64-eff0-4324-a008-806f54ac0aa1"
      },
      "source": [
        "category = pd.get_dummies(df.genre)\n",
        "df_baru = pd.concat([df, category], axis=1)\n",
        "df_baru = df_baru.drop(columns='genre')\n",
        "df_baru"
      ],
      "execution_count": 3,
      "outputs": [
        {
          "output_type": "execute_result",
          "data": {
            "text/html": [
              "<div>\n",
              "<style scoped>\n",
              "    .dataframe tbody tr th:only-of-type {\n",
              "        vertical-align: middle;\n",
              "    }\n",
              "\n",
              "    .dataframe tbody tr th {\n",
              "        vertical-align: top;\n",
              "    }\n",
              "\n",
              "    .dataframe thead th {\n",
              "        text-align: right;\n",
              "    }\n",
              "</style>\n",
              "<table border=\"1\" class=\"dataframe\">\n",
              "  <thead>\n",
              "    <tr style=\"text-align: right;\">\n",
              "      <th></th>\n",
              "      <th>ringkasan_sinopsis</th>\n",
              "      <th>Drama</th>\n",
              "      <th>Horor</th>\n",
              "      <th>Komedi</th>\n",
              "      <th>Laga</th>\n",
              "      <th>Romantis</th>\n",
              "    </tr>\n",
              "  </thead>\n",
              "  <tbody>\n",
              "    <tr>\n",
              "      <th>0</th>\n",
              "      <td>Raden Mas Said putra sulung Tumenggung Wilarik...</td>\n",
              "      <td>1</td>\n",
              "      <td>0</td>\n",
              "      <td>0</td>\n",
              "      <td>0</td>\n",
              "      <td>0</td>\n",
              "    </tr>\n",
              "    <tr>\n",
              "      <th>1</th>\n",
              "      <td>Soe Hok Gie adalah seorang aktivis yang hidup ...</td>\n",
              "      <td>1</td>\n",
              "      <td>0</td>\n",
              "      <td>0</td>\n",
              "      <td>0</td>\n",
              "      <td>0</td>\n",
              "    </tr>\n",
              "    <tr>\n",
              "      <th>2</th>\n",
              "      <td>Guru Bangsa Tjokroaminoto menceritakan tentang...</td>\n",
              "      <td>1</td>\n",
              "      <td>0</td>\n",
              "      <td>0</td>\n",
              "      <td>0</td>\n",
              "      <td>0</td>\n",
              "    </tr>\n",
              "    <tr>\n",
              "      <th>3</th>\n",
              "      <td>POL menceritakan kisah hidup yang luar biasa d...</td>\n",
              "      <td>1</td>\n",
              "      <td>0</td>\n",
              "      <td>0</td>\n",
              "      <td>0</td>\n",
              "      <td>0</td>\n",
              "    </tr>\n",
              "    <tr>\n",
              "      <th>4</th>\n",
              "      <td>Perjalanan pahlawan Indonesia KH Ahmad Dahlan ...</td>\n",
              "      <td>1</td>\n",
              "      <td>0</td>\n",
              "      <td>0</td>\n",
              "      <td>0</td>\n",
              "      <td>0</td>\n",
              "    </tr>\n",
              "    <tr>\n",
              "      <th>...</th>\n",
              "      <td>...</td>\n",
              "      <td>...</td>\n",
              "      <td>...</td>\n",
              "      <td>...</td>\n",
              "      <td>...</td>\n",
              "      <td>...</td>\n",
              "    </tr>\n",
              "    <tr>\n",
              "      <th>1000</th>\n",
              "      <td>Winter in Tokyo berpusat pada kehidupan Ishida...</td>\n",
              "      <td>0</td>\n",
              "      <td>0</td>\n",
              "      <td>0</td>\n",
              "      <td>0</td>\n",
              "      <td>1</td>\n",
              "    </tr>\n",
              "    <tr>\n",
              "      <th>1001</th>\n",
              "      <td>Markonah melarikan diri ke Jakarta karena akan...</td>\n",
              "      <td>0</td>\n",
              "      <td>0</td>\n",
              "      <td>0</td>\n",
              "      <td>0</td>\n",
              "      <td>1</td>\n",
              "    </tr>\n",
              "    <tr>\n",
              "      <th>1002</th>\n",
              "      <td>Tempat aking lebih dari 36 jam, Last Night ada...</td>\n",
              "      <td>0</td>\n",
              "      <td>0</td>\n",
              "      <td>0</td>\n",
              "      <td>0</td>\n",
              "      <td>1</td>\n",
              "    </tr>\n",
              "    <tr>\n",
              "      <th>1003</th>\n",
              "      <td>Proyek baru ini adalah tentang seorang lelaki ...</td>\n",
              "      <td>0</td>\n",
              "      <td>0</td>\n",
              "      <td>0</td>\n",
              "      <td>0</td>\n",
              "      <td>1</td>\n",
              "    </tr>\n",
              "    <tr>\n",
              "      <th>1004</th>\n",
              "      <td>Atika (Meriam Bellina) mantan penyanyi tenar, ...</td>\n",
              "      <td>0</td>\n",
              "      <td>0</td>\n",
              "      <td>0</td>\n",
              "      <td>0</td>\n",
              "      <td>1</td>\n",
              "    </tr>\n",
              "  </tbody>\n",
              "</table>\n",
              "<p>1005 rows × 6 columns</p>\n",
              "</div>"
            ],
            "text/plain": [
              "                                     ringkasan_sinopsis  Drama  ...  Laga  Romantis\n",
              "0     Raden Mas Said putra sulung Tumenggung Wilarik...      1  ...     0         0\n",
              "1     Soe Hok Gie adalah seorang aktivis yang hidup ...      1  ...     0         0\n",
              "2     Guru Bangsa Tjokroaminoto menceritakan tentang...      1  ...     0         0\n",
              "3     POL menceritakan kisah hidup yang luar biasa d...      1  ...     0         0\n",
              "4     Perjalanan pahlawan Indonesia KH Ahmad Dahlan ...      1  ...     0         0\n",
              "...                                                 ...    ...  ...   ...       ...\n",
              "1000  Winter in Tokyo berpusat pada kehidupan Ishida...      0  ...     0         1\n",
              "1001  Markonah melarikan diri ke Jakarta karena akan...      0  ...     0         1\n",
              "1002  Tempat aking lebih dari 36 jam, Last Night ada...      0  ...     0         1\n",
              "1003  Proyek baru ini adalah tentang seorang lelaki ...      0  ...     0         1\n",
              "1004  Atika (Meriam Bellina) mantan penyanyi tenar, ...      0  ...     0         1\n",
              "\n",
              "[1005 rows x 6 columns]"
            ]
          },
          "metadata": {
            "tags": []
          },
          "execution_count": 3
        }
      ]
    },
    {
      "cell_type": "code",
      "metadata": {
        "id": "buyVqNHoBhhQ"
      },
      "source": [
        "sinopsis = df_baru['ringkasan_sinopsis'].values\n",
        "label = df_baru[['Drama', 'Horor', 'Komedi', 'Laga', 'Romantis']].values"
      ],
      "execution_count": 4,
      "outputs": []
    },
    {
      "cell_type": "code",
      "metadata": {
        "id": "xw3BJEW0BnAL"
      },
      "source": [
        "from sklearn.model_selection import train_test_split\n",
        "sinopsis_latih, sinopsis_test, label_latih, label_test = train_test_split(sinopsis, label, test_size=0.2)"
      ],
      "execution_count": 5,
      "outputs": []
    },
    {
      "cell_type": "code",
      "metadata": {
        "id": "MTr8HwTpBtwQ"
      },
      "source": [
        "from tensorflow.keras.preprocessing.text import Tokenizer\n",
        "from tensorflow.keras.preprocessing.sequence import pad_sequences\n",
        " \n",
        "tokenizer = Tokenizer(num_words=5000, oov_token='x')\n",
        "tokenizer.fit_on_texts(sinopsis_latih) \n",
        "tokenizer.fit_on_texts(sinopsis_test)\n",
        " \n",
        "sekuens_latih = tokenizer.texts_to_sequences(sinopsis_latih)\n",
        "sekuens_test = tokenizer.texts_to_sequences(sinopsis_test)\n",
        " \n",
        "padded_latih = pad_sequences(sekuens_latih) \n",
        "padded_test = pad_sequences(sekuens_test)"
      ],
      "execution_count": 6,
      "outputs": []
    },
    {
      "cell_type": "code",
      "metadata": {
        "id": "VaHahgakB1Pg"
      },
      "source": [
        "import tensorflow as tf\n",
        "model = tf.keras.Sequential([\n",
        "    tf.keras.layers.Embedding(input_dim=5000, output_dim=16),\n",
        "    tf.keras.layers.LSTM(64),\n",
        "    tf.keras.layers.Dense(128, activation='relu'),\n",
        "    tf.keras.layers.Dense(64, activation='relu'),\n",
        "    tf.keras.layers.Dense(5, activation='softmax')\n",
        "])\n",
        "model.compile(loss='categorical_crossentropy',optimizer='adam',metrics=['accuracy'])"
      ],
      "execution_count": 8,
      "outputs": []
    },
    {
      "cell_type": "code",
      "metadata": {
        "colab": {
          "base_uri": "https://localhost:8080/"
        },
        "id": "1aNRQiR5B_n4",
        "outputId": "381bc35a-14bd-4384-e146-6cc8f9655383"
      },
      "source": [
        "num_epochs = 30\n",
        "history = model.fit(padded_latih, label_latih, epochs=num_epochs, \n",
        "                    validation_data=(padded_test, label_test), verbose=2)"
      ],
      "execution_count": 9,
      "outputs": [
        {
          "output_type": "stream",
          "text": [
            "Epoch 1/30\n",
            "26/26 - 28s - loss: 1.6099 - accuracy: 0.1866 - val_loss: 1.6106 - val_accuracy: 0.1841\n",
            "Epoch 2/30\n",
            "26/26 - 25s - loss: 1.6055 - accuracy: 0.2164 - val_loss: 1.6090 - val_accuracy: 0.1841\n",
            "Epoch 3/30\n",
            "26/26 - 25s - loss: 1.5955 - accuracy: 0.3644 - val_loss: 1.6003 - val_accuracy: 0.2289\n",
            "Epoch 4/30\n",
            "26/26 - 25s - loss: 1.4098 - accuracy: 0.5062 - val_loss: 1.6154 - val_accuracy: 0.2488\n",
            "Epoch 5/30\n",
            "26/26 - 26s - loss: 0.9493 - accuracy: 0.6368 - val_loss: 1.8404 - val_accuracy: 0.3085\n",
            "Epoch 6/30\n",
            "26/26 - 25s - loss: 0.5396 - accuracy: 0.7886 - val_loss: 2.3842 - val_accuracy: 0.2836\n",
            "Epoch 7/30\n",
            "26/26 - 25s - loss: 0.3427 - accuracy: 0.8918 - val_loss: 2.1969 - val_accuracy: 0.3184\n",
            "Epoch 8/30\n",
            "26/26 - 25s - loss: 0.1866 - accuracy: 0.9502 - val_loss: 2.9297 - val_accuracy: 0.3433\n",
            "Epoch 9/30\n",
            "26/26 - 26s - loss: 0.1048 - accuracy: 0.9689 - val_loss: 3.0183 - val_accuracy: 0.3632\n",
            "Epoch 10/30\n",
            "26/26 - 26s - loss: 0.0572 - accuracy: 0.9863 - val_loss: 3.5522 - val_accuracy: 0.3383\n",
            "Epoch 11/30\n",
            "26/26 - 26s - loss: 0.0509 - accuracy: 0.9876 - val_loss: 3.5871 - val_accuracy: 0.3532\n",
            "Epoch 12/30\n",
            "26/26 - 26s - loss: 0.0349 - accuracy: 0.9938 - val_loss: 4.6228 - val_accuracy: 0.3582\n",
            "Epoch 13/30\n",
            "26/26 - 25s - loss: 0.0162 - accuracy: 0.9963 - val_loss: 4.4528 - val_accuracy: 0.3284\n",
            "Epoch 14/30\n",
            "26/26 - 26s - loss: 0.0138 - accuracy: 0.9963 - val_loss: 4.4835 - val_accuracy: 0.3383\n",
            "Epoch 15/30\n",
            "26/26 - 25s - loss: 0.0163 - accuracy: 0.9975 - val_loss: 4.5956 - val_accuracy: 0.3433\n",
            "Epoch 16/30\n",
            "26/26 - 26s - loss: 0.0166 - accuracy: 0.9963 - val_loss: 4.5172 - val_accuracy: 0.3134\n",
            "Epoch 17/30\n",
            "26/26 - 26s - loss: 0.0109 - accuracy: 0.9975 - val_loss: 4.3908 - val_accuracy: 0.3433\n",
            "Epoch 18/30\n",
            "26/26 - 26s - loss: 0.0142 - accuracy: 0.9963 - val_loss: 4.4858 - val_accuracy: 0.3333\n",
            "Epoch 19/30\n",
            "26/26 - 25s - loss: 0.0095 - accuracy: 0.9988 - val_loss: 4.4922 - val_accuracy: 0.3284\n",
            "Epoch 20/30\n",
            "26/26 - 25s - loss: 0.0106 - accuracy: 0.9975 - val_loss: 4.7520 - val_accuracy: 0.3234\n",
            "Epoch 21/30\n",
            "26/26 - 26s - loss: 0.0054 - accuracy: 0.9988 - val_loss: 4.5482 - val_accuracy: 0.3333\n",
            "Epoch 22/30\n",
            "26/26 - 26s - loss: 0.0061 - accuracy: 0.9988 - val_loss: 5.1714 - val_accuracy: 0.3284\n",
            "Epoch 23/30\n",
            "26/26 - 25s - loss: 0.0076 - accuracy: 0.9988 - val_loss: 4.6645 - val_accuracy: 0.3483\n",
            "Epoch 24/30\n",
            "26/26 - 25s - loss: 0.0055 - accuracy: 0.9988 - val_loss: 5.2817 - val_accuracy: 0.3383\n",
            "Epoch 25/30\n",
            "26/26 - 25s - loss: 0.0083 - accuracy: 0.9975 - val_loss: 4.6609 - val_accuracy: 0.3383\n",
            "Epoch 26/30\n",
            "26/26 - 25s - loss: 0.0059 - accuracy: 0.9975 - val_loss: 5.1763 - val_accuracy: 0.3483\n",
            "Epoch 27/30\n",
            "26/26 - 25s - loss: 0.0053 - accuracy: 0.9975 - val_loss: 4.8417 - val_accuracy: 0.3483\n",
            "Epoch 28/30\n",
            "26/26 - 25s - loss: 0.0059 - accuracy: 0.9988 - val_loss: 5.1595 - val_accuracy: 0.3483\n",
            "Epoch 29/30\n",
            "26/26 - 25s - loss: 0.0092 - accuracy: 0.9975 - val_loss: 4.6700 - val_accuracy: 0.3284\n",
            "Epoch 30/30\n",
            "26/26 - 25s - loss: 0.0049 - accuracy: 0.9988 - val_loss: 5.2032 - val_accuracy: 0.3284\n"
          ],
          "name": "stdout"
        }
      ]
    }
  ]
}