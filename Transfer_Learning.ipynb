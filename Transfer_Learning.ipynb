{
  "nbformat": 4,
  "nbformat_minor": 0,
  "metadata": {
    "colab": {
      "name": "Transfer Learning.ipynb",
      "provenance": [],
      "authorship_tag": "ABX9TyOJ4RyBuBC/1Yux84Y9jt+j",
      "include_colab_link": true
    },
    "kernelspec": {
      "name": "python3",
      "display_name": "Python 3"
    },
    "language_info": {
      "name": "python"
    }
  },
  "cells": [
    {
      "cell_type": "markdown",
      "metadata": {
        "id": "view-in-github",
        "colab_type": "text"
      },
      "source": [
        "<a href=\"https://colab.research.google.com/github/cevitaufik/Belajar-Pengembangan-Machine-Learning/blob/main/Transfer_Learning.ipynb\" target=\"_parent\"><img src=\"https://colab.research.google.com/assets/colab-badge.svg\" alt=\"Open In Colab\"/></a>"
      ]
    },
    {
      "cell_type": "code",
      "metadata": {
        "colab": {
          "base_uri": "https://localhost:8080/"
        },
        "id": "Djl8sgUesX1h",
        "outputId": "81d50b13-8b83-4624-f55c-2263baff9a45"
      },
      "source": [
        "!wget --no-check-certificate \\\n",
        "  https://dicodingacademy.blob.core.windows.net/picodiploma/ml_pengembangan_academy/Chessman-image-dataset.zip \\\n",
        "  -O /tmp/Chessman-image-dataset.zip"
      ],
      "execution_count": 1,
      "outputs": [
        {
          "output_type": "stream",
          "text": [
            "--2021-06-07 13:46:17--  https://dicodingacademy.blob.core.windows.net/picodiploma/ml_pengembangan_academy/Chessman-image-dataset.zip\n",
            "Resolving dicodingacademy.blob.core.windows.net (dicodingacademy.blob.core.windows.net)... 52.239.197.36\n",
            "Connecting to dicodingacademy.blob.core.windows.net (dicodingacademy.blob.core.windows.net)|52.239.197.36|:443... connected.\n",
            "HTTP request sent, awaiting response... 200 OK\n",
            "Length: 60684125 (58M) [application/zip]\n",
            "Saving to: ‘/tmp/Chessman-image-dataset.zip’\n",
            "\n",
            "/tmp/Chessman-image 100%[===================>]  57.87M   283KB/s    in 58s     \n",
            "\n",
            "2021-06-07 13:47:16 (1020 KB/s) - ‘/tmp/Chessman-image-dataset.zip’ saved [60684125/60684125]\n",
            "\n"
          ],
          "name": "stdout"
        }
      ]
    },
    {
      "cell_type": "code",
      "metadata": {
        "id": "xpvbK95JsctO"
      },
      "source": [
        "import os\n",
        "import zipfile\n",
        "from tensorflow.keras.preprocessing.image import ImageDataGenerator\n",
        "local_zip = '/tmp/Chessman-image-dataset.zip'\n",
        "zip_ref = zipfile.ZipFile(local_zip, 'r')\n",
        "zip_ref.extractall('/tmp')\n",
        "zip_ref.close()\n",
        "train_dir = os.path.join('/tmp/Chessman-image-dataset/Chess')\n",
        "train_datagen = ImageDataGenerator(rescale=1./255,\n",
        "    rotation_range=20,\n",
        "    zoom_range=0.2,\n",
        "    shear_range=0.2,\n",
        "    fill_mode = 'nearest',\n",
        "    validation_split=0.1) # set validation split"
      ],
      "execution_count": 2,
      "outputs": []
    },
    {
      "cell_type": "code",
      "metadata": {
        "colab": {
          "base_uri": "https://localhost:8080/"
        },
        "id": "pobKKxSGshbE",
        "outputId": "ed55491a-bc80-468f-e6f4-c929c681a91c"
      },
      "source": [
        "train_generator = train_datagen.flow_from_directory(\n",
        "    train_dir,\n",
        "    target_size=(150, 150),\n",
        "    batch_size=8,\n",
        "    class_mode='categorical',\n",
        "    subset='training') # set as training data\n",
        "validation_generator = train_datagen.flow_from_directory(\n",
        "    train_dir, # same directory as training data\n",
        "    target_size=(150, 150),\n",
        "    batch_size=16,\n",
        "    class_mode='categorical',\n",
        "    subset='validation')"
      ],
      "execution_count": 3,
      "outputs": [
        {
          "output_type": "stream",
          "text": [
            "Found 499 images belonging to 6 classes.\n",
            "Found 52 images belonging to 6 classes.\n"
          ],
          "name": "stdout"
        }
      ]
    },
    {
      "cell_type": "code",
      "metadata": {
        "colab": {
          "base_uri": "https://localhost:8080/"
        },
        "id": "EVIjw7Z4sj2F",
        "outputId": "df35df31-f433-4635-d420-83022769cb61"
      },
      "source": [
        "import tensorflow as tf\n",
        "from tensorflow.keras.layers import Input\n",
        "from tensorflow.keras.applications import ResNet50\n",
        "from tensorflow.keras.applications import ResNet152V2\n",
        "model = tf.keras.models.Sequential([\n",
        "    ResNet152V2(weights=\"imagenet\", include_top=False, input_tensor=Input(shape=(150, 150, 3))),\n",
        "    # tf.keras.layers.Dropout(0.4),\n",
        "    tf.keras.layers.Flatten(), \n",
        "    tf.keras.layers.Dense(512, activation='relu'),\n",
        "    tf.keras.layers.Dense(256, activation='relu'),\n",
        "    tf.keras.layers.Dense(6, activation='softmax')  \n",
        "])\n",
        "model.layers[0].trainable = False"
      ],
      "execution_count": 4,
      "outputs": [
        {
          "output_type": "stream",
          "text": [
            "Downloading data from https://storage.googleapis.com/tensorflow/keras-applications/resnet/resnet152v2_weights_tf_dim_ordering_tf_kernels_notop.h5\n",
            "234553344/234545216 [==============================] - 3s 0us/step\n"
          ],
          "name": "stdout"
        }
      ]
    },
    {
      "cell_type": "code",
      "metadata": {
        "id": "OO3i_Ygfso0c"
      },
      "source": [
        "model.compile(optimizer=tf.optimizers.Adam(),\n",
        "              loss='categorical_crossentropy',\n",
        "              metrics = ['accuracy'])"
      ],
      "execution_count": 5,
      "outputs": []
    },
    {
      "cell_type": "code",
      "metadata": {
        "colab": {
          "base_uri": "https://localhost:8080/"
        },
        "id": "x0-DDVYGspYd",
        "outputId": "ee18fa09-fed8-4cf3-96db-bcda57611036"
      },
      "source": [
        "history = model.fit(train_generator,\n",
        "                              validation_data=validation_generator,\n",
        "                              epochs=50,\n",
        "                              verbose=2)"
      ],
      "execution_count": 6,
      "outputs": [
        {
          "output_type": "stream",
          "text": [
            "Epoch 1/50\n",
            "63/63 - 153s - loss: 9.2712 - accuracy: 0.4329 - val_loss: 3.0828 - val_accuracy: 0.6154\n",
            "Epoch 2/50\n",
            "63/63 - 158s - loss: 1.9962 - accuracy: 0.6613 - val_loss: 2.6587 - val_accuracy: 0.6154\n",
            "Epoch 3/50\n",
            "63/63 - 173s - loss: 1.2647 - accuracy: 0.7535 - val_loss: 2.1564 - val_accuracy: 0.6346\n",
            "Epoch 4/50\n",
            "63/63 - 143s - loss: 1.2848 - accuracy: 0.7735 - val_loss: 1.9646 - val_accuracy: 0.7308\n",
            "Epoch 5/50\n",
            "63/63 - 130s - loss: 0.8215 - accuracy: 0.8337 - val_loss: 2.6066 - val_accuracy: 0.5962\n",
            "Epoch 6/50\n",
            "63/63 - 125s - loss: 0.9376 - accuracy: 0.7956 - val_loss: 1.3989 - val_accuracy: 0.6538\n",
            "Epoch 7/50\n",
            "63/63 - 125s - loss: 0.7508 - accuracy: 0.8357 - val_loss: 1.6344 - val_accuracy: 0.6923\n",
            "Epoch 8/50\n",
            "63/63 - 126s - loss: 0.5909 - accuracy: 0.8537 - val_loss: 1.2650 - val_accuracy: 0.7115\n",
            "Epoch 9/50\n",
            "63/63 - 126s - loss: 0.5666 - accuracy: 0.8758 - val_loss: 1.2238 - val_accuracy: 0.7500\n",
            "Epoch 10/50\n",
            "63/63 - 125s - loss: 0.4521 - accuracy: 0.8938 - val_loss: 1.5366 - val_accuracy: 0.6538\n",
            "Epoch 11/50\n",
            "63/63 - 126s - loss: 0.4441 - accuracy: 0.8878 - val_loss: 1.5086 - val_accuracy: 0.7115\n",
            "Epoch 12/50\n",
            "63/63 - 133s - loss: 0.5103 - accuracy: 0.8858 - val_loss: 0.9759 - val_accuracy: 0.7308\n",
            "Epoch 13/50\n",
            "63/63 - 133s - loss: 0.2648 - accuracy: 0.9218 - val_loss: 0.6833 - val_accuracy: 0.7885\n",
            "Epoch 14/50\n",
            "63/63 - 131s - loss: 0.3341 - accuracy: 0.9259 - val_loss: 1.8878 - val_accuracy: 0.6538\n",
            "Epoch 15/50\n",
            "63/63 - 132s - loss: 0.3818 - accuracy: 0.9118 - val_loss: 0.4433 - val_accuracy: 0.8654\n",
            "Epoch 16/50\n",
            "63/63 - 127s - loss: 0.3815 - accuracy: 0.9238 - val_loss: 1.2475 - val_accuracy: 0.7885\n",
            "Epoch 17/50\n",
            "63/63 - 129s - loss: 0.4429 - accuracy: 0.9259 - val_loss: 1.7951 - val_accuracy: 0.6346\n",
            "Epoch 18/50\n",
            "63/63 - 134s - loss: 0.2683 - accuracy: 0.9279 - val_loss: 0.7005 - val_accuracy: 0.8077\n",
            "Epoch 19/50\n",
            "63/63 - 130s - loss: 0.3216 - accuracy: 0.9459 - val_loss: 0.5248 - val_accuracy: 0.8269\n",
            "Epoch 20/50\n",
            "63/63 - 125s - loss: 0.1339 - accuracy: 0.9599 - val_loss: 0.8029 - val_accuracy: 0.7885\n",
            "Epoch 21/50\n",
            "63/63 - 125s - loss: 0.1939 - accuracy: 0.9559 - val_loss: 1.2069 - val_accuracy: 0.7885\n",
            "Epoch 22/50\n",
            "63/63 - 125s - loss: 0.2961 - accuracy: 0.9339 - val_loss: 1.1076 - val_accuracy: 0.8077\n",
            "Epoch 23/50\n",
            "63/63 - 124s - loss: 0.3874 - accuracy: 0.9138 - val_loss: 0.9542 - val_accuracy: 0.8077\n",
            "Epoch 24/50\n",
            "63/63 - 124s - loss: 0.3471 - accuracy: 0.9098 - val_loss: 1.1421 - val_accuracy: 0.8846\n",
            "Epoch 25/50\n",
            "63/63 - 125s - loss: 0.3027 - accuracy: 0.9339 - val_loss: 1.1671 - val_accuracy: 0.7885\n",
            "Epoch 26/50\n",
            "63/63 - 124s - loss: 0.3758 - accuracy: 0.9158 - val_loss: 0.9215 - val_accuracy: 0.7500\n",
            "Epoch 27/50\n",
            "63/63 - 125s - loss: 0.2281 - accuracy: 0.9439 - val_loss: 1.0674 - val_accuracy: 0.8077\n",
            "Epoch 28/50\n",
            "63/63 - 125s - loss: 0.1191 - accuracy: 0.9579 - val_loss: 0.9038 - val_accuracy: 0.8077\n",
            "Epoch 29/50\n",
            "63/63 - 128s - loss: 0.2336 - accuracy: 0.9499 - val_loss: 0.4538 - val_accuracy: 0.8846\n",
            "Epoch 30/50\n",
            "63/63 - 128s - loss: 0.1517 - accuracy: 0.9539 - val_loss: 1.2337 - val_accuracy: 0.7885\n",
            "Epoch 31/50\n",
            "63/63 - 136s - loss: 0.1933 - accuracy: 0.9479 - val_loss: 1.4584 - val_accuracy: 0.7500\n",
            "Epoch 32/50\n",
            "63/63 - 145s - loss: 0.2827 - accuracy: 0.9459 - val_loss: 0.6779 - val_accuracy: 0.8654\n",
            "Epoch 33/50\n",
            "63/63 - 145s - loss: 0.1513 - accuracy: 0.9639 - val_loss: 0.8691 - val_accuracy: 0.8077\n",
            "Epoch 34/50\n",
            "63/63 - 133s - loss: 0.1741 - accuracy: 0.9599 - val_loss: 1.2367 - val_accuracy: 0.7500\n",
            "Epoch 35/50\n",
            "63/63 - 143s - loss: 0.1536 - accuracy: 0.9559 - val_loss: 0.6591 - val_accuracy: 0.8462\n",
            "Epoch 36/50\n",
            "63/63 - 130s - loss: 0.2000 - accuracy: 0.9539 - val_loss: 1.2706 - val_accuracy: 0.7308\n",
            "Epoch 37/50\n",
            "63/63 - 130s - loss: 0.2144 - accuracy: 0.9619 - val_loss: 0.7411 - val_accuracy: 0.7885\n",
            "Epoch 38/50\n",
            "63/63 - 128s - loss: 0.1991 - accuracy: 0.9499 - val_loss: 0.8379 - val_accuracy: 0.8269\n",
            "Epoch 39/50\n",
            "63/63 - 127s - loss: 0.1164 - accuracy: 0.9619 - val_loss: 1.0871 - val_accuracy: 0.8077\n",
            "Epoch 40/50\n",
            "63/63 - 128s - loss: 0.1356 - accuracy: 0.9679 - val_loss: 1.1757 - val_accuracy: 0.7500\n",
            "Epoch 41/50\n",
            "63/63 - 128s - loss: 0.1061 - accuracy: 0.9699 - val_loss: 0.8701 - val_accuracy: 0.8077\n",
            "Epoch 42/50\n",
            "63/63 - 128s - loss: 0.1204 - accuracy: 0.9679 - val_loss: 0.6611 - val_accuracy: 0.8654\n",
            "Epoch 43/50\n",
            "63/63 - 128s - loss: 0.1461 - accuracy: 0.9599 - val_loss: 1.3924 - val_accuracy: 0.8077\n",
            "Epoch 44/50\n",
            "63/63 - 128s - loss: 0.1451 - accuracy: 0.9639 - val_loss: 0.6625 - val_accuracy: 0.8269\n",
            "Epoch 45/50\n",
            "63/63 - 128s - loss: 0.2169 - accuracy: 0.9539 - val_loss: 1.2970 - val_accuracy: 0.7885\n",
            "Epoch 46/50\n",
            "63/63 - 129s - loss: 0.1356 - accuracy: 0.9619 - val_loss: 0.9394 - val_accuracy: 0.8654\n",
            "Epoch 47/50\n",
            "63/63 - 129s - loss: 0.1653 - accuracy: 0.9619 - val_loss: 1.7735 - val_accuracy: 0.6923\n",
            "Epoch 48/50\n",
            "63/63 - 129s - loss: 0.1773 - accuracy: 0.9699 - val_loss: 1.2153 - val_accuracy: 0.8269\n",
            "Epoch 49/50\n",
            "63/63 - 129s - loss: 0.0588 - accuracy: 0.9800 - val_loss: 1.2083 - val_accuracy: 0.7885\n",
            "Epoch 50/50\n",
            "63/63 - 128s - loss: 0.1116 - accuracy: 0.9699 - val_loss: 1.6255 - val_accuracy: 0.7500\n"
          ],
          "name": "stdout"
        }
      ]
    }
  ]
}