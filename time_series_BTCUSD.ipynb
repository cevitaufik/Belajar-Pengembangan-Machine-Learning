{
  "nbformat": 4,
  "nbformat_minor": 0,
  "metadata": {
    "colab": {
      "name": "time series BTCUSD.ipynb",
      "provenance": [],
      "collapsed_sections": [],
      "mount_file_id": "1QSXwJnQXvb552iQZiODSbz5bDG25YDD6",
      "authorship_tag": "ABX9TyNthDAdC1PPJ6KEW4UypNT5",
      "include_colab_link": true
    },
    "kernelspec": {
      "name": "python3",
      "display_name": "Python 3"
    },
    "language_info": {
      "name": "python"
    }
  },
  "cells": [
    {
      "cell_type": "markdown",
      "metadata": {
        "id": "view-in-github",
        "colab_type": "text"
      },
      "source": [
        "<a href=\"https://colab.research.google.com/github/cevitaufik/Belajar-Pengembangan-Machine-Learning/blob/main/time_series_BTCUSD.ipynb\" target=\"_parent\"><img src=\"https://colab.research.google.com/assets/colab-badge.svg\" alt=\"Open In Colab\"/></a>"
      ]
    },
    {
      "cell_type": "markdown",
      "metadata": {
        "id": "Wm6GW87nidvM"
      },
      "source": [
        "# **Memprediksi harga BTCUSD**\n",
        "<hr><br>\n",
        "Nama : Cevi Taufik <br>\n",
        "Email&nbsp;&nbsp;: cevitaufik@gmail.com"
      ]
    },
    {
      "cell_type": "code",
      "metadata": {
        "colab": {
          "base_uri": "https://localhost:8080/"
        },
        "id": "XYrqWHvaOAC3",
        "outputId": "733e2c4c-574a-48bc-dc00-64c2c461bac4"
      },
      "source": [
        "from google.colab import drive\n",
        "drive.mount('/content/gdrive')"
      ],
      "execution_count": 91,
      "outputs": [
        {
          "output_type": "stream",
          "text": [
            "Mounted at /content/gdrive\n"
          ],
          "name": "stdout"
        }
      ]
    },
    {
      "cell_type": "code",
      "metadata": {
        "id": "jONn6CtdOb4v"
      },
      "source": [
        "import numpy as np\n",
        "import pandas as pd\n",
        "from keras.layers import Dense, LSTM\n",
        "import matplotlib.pyplot as plt\n",
        "import tensorflow as tf"
      ],
      "execution_count": 92,
      "outputs": []
    },
    {
      "cell_type": "code",
      "metadata": {
        "colab": {
          "base_uri": "https://localhost:8080/",
          "height": 611
        },
        "id": "DHjofAl5OfcW",
        "outputId": "62fecdf8-7976-4b4d-f8c8-28981238558b"
      },
      "source": [
        "df = pd.read_csv('/content/gdrive/MyDrive/sample/kaggle/gemini_BTCUSD_2020_1min.csv')\n",
        "df = df.drop(columns = ['Unix Timestamp', 'Symbol'])\n",
        "df"
      ],
      "execution_count": 93,
      "outputs": [
        {
          "output_type": "execute_result",
          "data": {
            "text/html": [
              "<div>\n",
              "<style scoped>\n",
              "    .dataframe tbody tr th:only-of-type {\n",
              "        vertical-align: middle;\n",
              "    }\n",
              "\n",
              "    .dataframe tbody tr th {\n",
              "        vertical-align: top;\n",
              "    }\n",
              "\n",
              "    .dataframe thead th {\n",
              "        text-align: right;\n",
              "    }\n",
              "</style>\n",
              "<table border=\"1\" class=\"dataframe\">\n",
              "  <thead>\n",
              "    <tr style=\"text-align: right;\">\n",
              "      <th></th>\n",
              "      <th>Date</th>\n",
              "      <th>Open</th>\n",
              "      <th>High</th>\n",
              "      <th>Low</th>\n",
              "      <th>Close</th>\n",
              "      <th>Volume</th>\n",
              "    </tr>\n",
              "  </thead>\n",
              "  <tbody>\n",
              "    <tr>\n",
              "      <th>0</th>\n",
              "      <td>4/20/2021 0:02</td>\n",
              "      <td>55717.47</td>\n",
              "      <td>55723.00</td>\n",
              "      <td>55541.69</td>\n",
              "      <td>55541.69</td>\n",
              "      <td>2.406734</td>\n",
              "    </tr>\n",
              "    <tr>\n",
              "      <th>1</th>\n",
              "      <td>4/20/2021 0:01</td>\n",
              "      <td>55768.94</td>\n",
              "      <td>55849.82</td>\n",
              "      <td>55711.74</td>\n",
              "      <td>55717.47</td>\n",
              "      <td>0.573458</td>\n",
              "    </tr>\n",
              "    <tr>\n",
              "      <th>2</th>\n",
              "      <td>4/20/2021 0:00</td>\n",
              "      <td>55691.79</td>\n",
              "      <td>55793.15</td>\n",
              "      <td>55691.79</td>\n",
              "      <td>55768.94</td>\n",
              "      <td>3.309904</td>\n",
              "    </tr>\n",
              "    <tr>\n",
              "      <th>3</th>\n",
              "      <td>4/19/2021 23:59</td>\n",
              "      <td>55777.86</td>\n",
              "      <td>55777.86</td>\n",
              "      <td>55677.92</td>\n",
              "      <td>55691.79</td>\n",
              "      <td>0.684934</td>\n",
              "    </tr>\n",
              "    <tr>\n",
              "      <th>4</th>\n",
              "      <td>4/19/2021 23:58</td>\n",
              "      <td>55803.50</td>\n",
              "      <td>55823.88</td>\n",
              "      <td>55773.08</td>\n",
              "      <td>55777.86</td>\n",
              "      <td>0.477225</td>\n",
              "    </tr>\n",
              "    <tr>\n",
              "      <th>...</th>\n",
              "      <td>...</td>\n",
              "      <td>...</td>\n",
              "      <td>...</td>\n",
              "      <td>...</td>\n",
              "      <td>...</td>\n",
              "      <td>...</td>\n",
              "    </tr>\n",
              "    <tr>\n",
              "      <th>658060</th>\n",
              "      <td>1/1/2020 0:04</td>\n",
              "      <td>7163.60</td>\n",
              "      <td>7163.60</td>\n",
              "      <td>7163.00</td>\n",
              "      <td>7163.00</td>\n",
              "      <td>1.751844</td>\n",
              "    </tr>\n",
              "    <tr>\n",
              "      <th>658061</th>\n",
              "      <td>1/1/2020 0:03</td>\n",
              "      <td>7163.00</td>\n",
              "      <td>7163.60</td>\n",
              "      <td>7163.00</td>\n",
              "      <td>7163.60</td>\n",
              "      <td>0.002706</td>\n",
              "    </tr>\n",
              "    <tr>\n",
              "      <th>658062</th>\n",
              "      <td>1/1/2020 0:02</td>\n",
              "      <td>7163.30</td>\n",
              "      <td>7164.22</td>\n",
              "      <td>7163.00</td>\n",
              "      <td>7163.00</td>\n",
              "      <td>0.063904</td>\n",
              "    </tr>\n",
              "    <tr>\n",
              "      <th>658063</th>\n",
              "      <td>1/1/2020 0:01</td>\n",
              "      <td>7163.30</td>\n",
              "      <td>7164.23</td>\n",
              "      <td>7163.30</td>\n",
              "      <td>7163.30</td>\n",
              "      <td>0.002646</td>\n",
              "    </tr>\n",
              "    <tr>\n",
              "      <th>658064</th>\n",
              "      <td>1/1/2020 0:00</td>\n",
              "      <td>7165.90</td>\n",
              "      <td>7170.79</td>\n",
              "      <td>7163.30</td>\n",
              "      <td>7163.30</td>\n",
              "      <td>0.007931</td>\n",
              "    </tr>\n",
              "  </tbody>\n",
              "</table>\n",
              "<p>658065 rows × 6 columns</p>\n",
              "</div>"
            ],
            "text/plain": [
              "                   Date      Open      High       Low     Close    Volume\n",
              "0        4/20/2021 0:02  55717.47  55723.00  55541.69  55541.69  2.406734\n",
              "1        4/20/2021 0:01  55768.94  55849.82  55711.74  55717.47  0.573458\n",
              "2        4/20/2021 0:00  55691.79  55793.15  55691.79  55768.94  3.309904\n",
              "3       4/19/2021 23:59  55777.86  55777.86  55677.92  55691.79  0.684934\n",
              "4       4/19/2021 23:58  55803.50  55823.88  55773.08  55777.86  0.477225\n",
              "...                 ...       ...       ...       ...       ...       ...\n",
              "658060    1/1/2020 0:04   7163.60   7163.60   7163.00   7163.00  1.751844\n",
              "658061    1/1/2020 0:03   7163.00   7163.60   7163.00   7163.60  0.002706\n",
              "658062    1/1/2020 0:02   7163.30   7164.22   7163.00   7163.00  0.063904\n",
              "658063    1/1/2020 0:01   7163.30   7164.23   7163.30   7163.30  0.002646\n",
              "658064    1/1/2020 0:00   7165.90   7170.79   7163.30   7163.30  0.007931\n",
              "\n",
              "[658065 rows x 6 columns]"
            ]
          },
          "metadata": {
            "tags": []
          },
          "execution_count": 93
        }
      ]
    },
    {
      "cell_type": "code",
      "metadata": {
        "colab": {
          "base_uri": "https://localhost:8080/",
          "height": 611
        },
        "id": "MITKYZ0gnug4",
        "outputId": "73b734b8-b5dc-4aaf-a99a-ce40a17dc8d8"
      },
      "source": [
        "# mengurangi jumlah data menjadi hanya 20000\n",
        "# untuk mempersingkat proses dan menghindari crash karena memory RAM penuh\n",
        "df = df.drop(labels = range(20000, 658065), axis = 0)\n",
        "df"
      ],
      "execution_count": 94,
      "outputs": [
        {
          "output_type": "execute_result",
          "data": {
            "text/html": [
              "<div>\n",
              "<style scoped>\n",
              "    .dataframe tbody tr th:only-of-type {\n",
              "        vertical-align: middle;\n",
              "    }\n",
              "\n",
              "    .dataframe tbody tr th {\n",
              "        vertical-align: top;\n",
              "    }\n",
              "\n",
              "    .dataframe thead th {\n",
              "        text-align: right;\n",
              "    }\n",
              "</style>\n",
              "<table border=\"1\" class=\"dataframe\">\n",
              "  <thead>\n",
              "    <tr style=\"text-align: right;\">\n",
              "      <th></th>\n",
              "      <th>Date</th>\n",
              "      <th>Open</th>\n",
              "      <th>High</th>\n",
              "      <th>Low</th>\n",
              "      <th>Close</th>\n",
              "      <th>Volume</th>\n",
              "    </tr>\n",
              "  </thead>\n",
              "  <tbody>\n",
              "    <tr>\n",
              "      <th>0</th>\n",
              "      <td>4/20/2021 0:02</td>\n",
              "      <td>55717.47</td>\n",
              "      <td>55723.00</td>\n",
              "      <td>55541.69</td>\n",
              "      <td>55541.69</td>\n",
              "      <td>2.406734</td>\n",
              "    </tr>\n",
              "    <tr>\n",
              "      <th>1</th>\n",
              "      <td>4/20/2021 0:01</td>\n",
              "      <td>55768.94</td>\n",
              "      <td>55849.82</td>\n",
              "      <td>55711.74</td>\n",
              "      <td>55717.47</td>\n",
              "      <td>0.573458</td>\n",
              "    </tr>\n",
              "    <tr>\n",
              "      <th>2</th>\n",
              "      <td>4/20/2021 0:00</td>\n",
              "      <td>55691.79</td>\n",
              "      <td>55793.15</td>\n",
              "      <td>55691.79</td>\n",
              "      <td>55768.94</td>\n",
              "      <td>3.309904</td>\n",
              "    </tr>\n",
              "    <tr>\n",
              "      <th>3</th>\n",
              "      <td>4/19/2021 23:59</td>\n",
              "      <td>55777.86</td>\n",
              "      <td>55777.86</td>\n",
              "      <td>55677.92</td>\n",
              "      <td>55691.79</td>\n",
              "      <td>0.684934</td>\n",
              "    </tr>\n",
              "    <tr>\n",
              "      <th>4</th>\n",
              "      <td>4/19/2021 23:58</td>\n",
              "      <td>55803.50</td>\n",
              "      <td>55823.88</td>\n",
              "      <td>55773.08</td>\n",
              "      <td>55777.86</td>\n",
              "      <td>0.477225</td>\n",
              "    </tr>\n",
              "    <tr>\n",
              "      <th>...</th>\n",
              "      <td>...</td>\n",
              "      <td>...</td>\n",
              "      <td>...</td>\n",
              "      <td>...</td>\n",
              "      <td>...</td>\n",
              "      <td>...</td>\n",
              "    </tr>\n",
              "    <tr>\n",
              "      <th>19995</th>\n",
              "      <td>4/6/2021 2:41</td>\n",
              "      <td>58862.63</td>\n",
              "      <td>58863.00</td>\n",
              "      <td>58861.33</td>\n",
              "      <td>58861.34</td>\n",
              "      <td>0.031288</td>\n",
              "    </tr>\n",
              "    <tr>\n",
              "      <th>19996</th>\n",
              "      <td>4/6/2021 2:40</td>\n",
              "      <td>58860.74</td>\n",
              "      <td>58862.63</td>\n",
              "      <td>58855.40</td>\n",
              "      <td>58862.63</td>\n",
              "      <td>0.045167</td>\n",
              "    </tr>\n",
              "    <tr>\n",
              "      <th>19997</th>\n",
              "      <td>4/6/2021 2:39</td>\n",
              "      <td>58872.38</td>\n",
              "      <td>58872.38</td>\n",
              "      <td>58852.31</td>\n",
              "      <td>58860.74</td>\n",
              "      <td>0.020842</td>\n",
              "    </tr>\n",
              "    <tr>\n",
              "      <th>19998</th>\n",
              "      <td>4/6/2021 2:38</td>\n",
              "      <td>58847.56</td>\n",
              "      <td>58876.16</td>\n",
              "      <td>58847.56</td>\n",
              "      <td>58872.38</td>\n",
              "      <td>0.077652</td>\n",
              "    </tr>\n",
              "    <tr>\n",
              "      <th>19999</th>\n",
              "      <td>4/6/2021 2:37</td>\n",
              "      <td>58834.56</td>\n",
              "      <td>58860.25</td>\n",
              "      <td>58834.56</td>\n",
              "      <td>58847.56</td>\n",
              "      <td>0.004662</td>\n",
              "    </tr>\n",
              "  </tbody>\n",
              "</table>\n",
              "<p>20000 rows × 6 columns</p>\n",
              "</div>"
            ],
            "text/plain": [
              "                  Date      Open      High       Low     Close    Volume\n",
              "0       4/20/2021 0:02  55717.47  55723.00  55541.69  55541.69  2.406734\n",
              "1       4/20/2021 0:01  55768.94  55849.82  55711.74  55717.47  0.573458\n",
              "2       4/20/2021 0:00  55691.79  55793.15  55691.79  55768.94  3.309904\n",
              "3      4/19/2021 23:59  55777.86  55777.86  55677.92  55691.79  0.684934\n",
              "4      4/19/2021 23:58  55803.50  55823.88  55773.08  55777.86  0.477225\n",
              "...                ...       ...       ...       ...       ...       ...\n",
              "19995    4/6/2021 2:41  58862.63  58863.00  58861.33  58861.34  0.031288\n",
              "19996    4/6/2021 2:40  58860.74  58862.63  58855.40  58862.63  0.045167\n",
              "19997    4/6/2021 2:39  58872.38  58872.38  58852.31  58860.74  0.020842\n",
              "19998    4/6/2021 2:38  58847.56  58876.16  58847.56  58872.38  0.077652\n",
              "19999    4/6/2021 2:37  58834.56  58860.25  58834.56  58847.56  0.004662\n",
              "\n",
              "[20000 rows x 6 columns]"
            ]
          },
          "metadata": {
            "tags": []
          },
          "execution_count": 94
        }
      ]
    },
    {
      "cell_type": "code",
      "metadata": {
        "colab": {
          "base_uri": "https://localhost:8080/"
        },
        "id": "TxddubYIipkN",
        "outputId": "19fd8268-fdd5-4181-acae-f5acc31d2f3d"
      },
      "source": [
        "df.isnull().sum()"
      ],
      "execution_count": 95,
      "outputs": [
        {
          "output_type": "execute_result",
          "data": {
            "text/plain": [
              "Date      0\n",
              "Open      0\n",
              "High      0\n",
              "Low       0\n",
              "Close     0\n",
              "Volume    0\n",
              "dtype: int64"
            ]
          },
          "metadata": {
            "tags": []
          },
          "execution_count": 95
        }
      ]
    },
    {
      "cell_type": "code",
      "metadata": {
        "colab": {
          "base_uri": "https://localhost:8080/",
          "height": 293
        },
        "id": "21fWY4GTiuVK",
        "outputId": "f9861a3a-d793-4f80-e8a6-b3c79f1bfadd"
      },
      "source": [
        "dates = df['Date'].values\n",
        "price = df['Close'].values\n",
        " \n",
        " \n",
        "plt.figure(figsize = (15,5))\n",
        "plt.plot(dates, price)\n",
        "plt.title('Price BTCUSD',\n",
        "          fontsize=20);"
      ],
      "execution_count": null,
      "outputs": [
        {
          "output_type": "display_data",
          "data": {
            "image/png": "[encoded data removed]",
            "text/plain": [
              "<Figure size 1080x360 with 1 Axes>"
            ]
          },
          "metadata": {
            "tags": [],
            "needs_background": "light"
          }
        }
      ]
    },
    {
      "cell_type": "code",
      "metadata": {
        "id": "vmEVlYcyjslf"
      },
      "source": [
        "def windowed_dataset(series, window_size, batch_size, shuffle_buffer):\n",
        "    series = tf.expand_dims(series, axis = -1)\n",
        "    ds = tf.data.Dataset.from_tensor_slices(series)\n",
        "    ds = ds.window(window_size + 1, shift = 1, drop_remainder = True)\n",
        "    ds = ds.flat_map(lambda w: w.batch(window_size + 1))\n",
        "    ds = ds.shuffle(shuffle_buffer)\n",
        "    ds = ds.map(lambda w: (w[:-1], w[-1:]))\n",
        "    return ds.batch(batch_size).prefetch(1)"
      ],
      "execution_count": 96,
      "outputs": []
    },
    {
      "cell_type": "code",
      "metadata": {
        "id": "8vmfQQkEj26P"
      },
      "source": [
        "train_set = windowed_dataset(price,\n",
        "                             window_size = 60,\n",
        "                             batch_size = 200,\n",
        "                             shuffle_buffer = 1000)\n",
        " \n",
        "model = tf.keras.models.Sequential([\n",
        "  tf.keras.layers.LSTM(60, return_sequences = True),\n",
        "  tf.keras.layers.LSTM(60),\n",
        "  tf.keras.layers.Dense(30, activation = \"relu\"),\n",
        "  tf.keras.layers.Dense(10, activation = \"relu\"),\n",
        "  tf.keras.layers.Dense(1),\n",
        "])"
      ],
      "execution_count": 98,
      "outputs": []
    },
    {
      "cell_type": "code",
      "metadata": {
        "colab": {
          "base_uri": "https://localhost:8080/"
        },
        "id": "h-jAyyvwkAUG",
        "outputId": "4274e476-54f5-4a5d-ff24-94eae4bc11e1"
      },
      "source": [
        "targetAccuracy = 1150\n",
        " \n",
        "class clbk(tf.keras.callbacks.Callback):\n",
        "  def on_epoch_end(self, epoch, logs = {}):\n",
        "    if(logs.get('mae') < targetAccuracy):\n",
        "      print(\"\\nTarget akurasi telah tercapai!\")\n",
        "      self.model.stop_training = True\n",
        "callback = clbk()\n",
        " \n",
        "optimizer = tf.keras.optimizers.SGD(learning_rate = 1.0000e-04, momentum = 0.9)\n",
        "model.compile(loss = tf.keras.losses.Huber(),\n",
        "              optimizer = optimizer,\n",
        "              metrics = [\"mae\"])\n",
        " \n",
        "epoch = 100\n",
        "batch = 128\n",
        "history = model.fit(train_set,\n",
        "                    batch_size = batch, \n",
        "                    epochs = epoch, \n",
        "                    callbacks = [callback])"
      ],
      "execution_count": 99,
      "outputs": [
        {
          "output_type": "stream",
          "text": [
            "Epoch 1/100\n",
            "100/100 [==============================] - 24s 202ms/step - loss: 59642.9492 - mae: 59643.4414\n",
            "Epoch 2/100\n",
            "100/100 [==============================] - 21s 206ms/step - loss: 59642.5000 - mae: 59643.0039\n",
            "Epoch 3/100\n",
            "100/100 [==============================] - 21s 205ms/step - loss: 59641.8711 - mae: 59642.3438\n",
            "Epoch 4/100\n",
            "100/100 [==============================] - 21s 205ms/step - loss: 59640.2578 - mae: 59640.7852\n",
            "Epoch 5/100\n",
            "100/100 [==============================] - 21s 203ms/step - loss: 59634.0586 - mae: 59634.5664\n",
            "Epoch 6/100\n",
            "100/100 [==============================] - 20s 203ms/step - loss: 59522.5430 - mae: 59523.0508\n",
            "Epoch 7/100\n",
            "100/100 [==============================] - 20s 202ms/step - loss: 23248.1602 - mae: 23248.6543\n",
            "Epoch 8/100\n",
            "100/100 [==============================] - 20s 203ms/step - loss: 1877.4824 - mae: 1877.9823\n",
            "Epoch 9/100\n",
            "100/100 [==============================] - 20s 203ms/step - loss: 1550.0818 - mae: 1550.5817\n",
            "Epoch 10/100\n",
            "100/100 [==============================] - 21s 204ms/step - loss: 1906.4331 - mae: 1906.9327\n",
            "Epoch 11/100\n",
            "100/100 [==============================] - 21s 205ms/step - loss: 1943.7405 - mae: 1944.2404\n",
            "Epoch 12/100\n",
            "100/100 [==============================] - 20s 203ms/step - loss: 1754.8634 - mae: 1755.3630\n",
            "Epoch 13/100\n",
            "100/100 [==============================] - 20s 202ms/step - loss: 1529.5297 - mae: 1530.0295\n",
            "Epoch 14/100\n",
            "100/100 [==============================] - 20s 202ms/step - loss: 1570.7388 - mae: 1571.2388\n",
            "Epoch 15/100\n",
            "100/100 [==============================] - 20s 202ms/step - loss: 1115.0591 - mae: 1115.5588\n",
            "\n",
            "Target akurasi telah tercapai!\n"
          ],
          "name": "stdout"
        }
      ]
    },
    {
      "cell_type": "code",
      "metadata": {
        "id": "uwy7_9Bllj5c",
        "colab": {
          "base_uri": "https://localhost:8080/",
          "height": 227
        },
        "outputId": "12a0492b-f492-4b60-ba6b-d690643628fd"
      },
      "source": [
        "import matplotlib.pyplot as plt\n",
        " \n",
        "plt.plot(history.history['loss'])\n",
        "plt.title('Model loss')\n",
        "plt.ylabel('Loss')\n",
        "plt.xlabel('Epoch')\n",
        "plt.legend(['Train'], loc = 'upper right')\n",
        "plt.show()"
      ],
      "execution_count": 100,
      "outputs": [
        {
          "output_type": "display_data",
          "data": {
            "image/png": "[encoded data removed]",
            "text/plain": [
              "<Figure size 432x288 with 1 Axes>"
            ]
          },
          "metadata": {
            "tags": [],
            "needs_background": "light"
          }
        }
      ]
    },
    {
      "cell_type": "code",
      "metadata": {
        "id": "yNw-FBA5lqgK",
        "colab": {
          "base_uri": "https://localhost:8080/",
          "height": 227
        },
        "outputId": "181f2081-2ae2-481e-f7ec-cde85048f75f"
      },
      "source": [
        "plt.plot(history.history['mae'])\n",
        "plt.title('Model accuracy')\n",
        "plt.ylabel('Mae')\n",
        "plt.xlabel('Epoch')\n",
        "plt.legend(['Train'], loc = 'upper right')\n",
        "plt.show()"
      ],
      "execution_count": 101,
      "outputs": [
        {
          "output_type": "display_data",
          "data": {
            "image/png": "[encoded data removed]",
            "text/plain": [
              "<Figure size 432x288 with 1 Axes>"
            ]
          },
          "metadata": {
            "tags": [],
            "needs_background": "light"
          }
        }
      ]
    }
  ]
}