{
 "cells": [
  {
   "cell_type": "code",
   "execution_count": 25,
   "metadata": {},
   "outputs": [
    {
     "name": "stdout",
     "output_type": "stream",
     "text": [
      "Requirement already satisfied: selenium in c:\\users\\user\\anaconda3\\lib\\site-packages (4.2.0)Note: you may need to restart the kernel to use updated packages.\n",
      "\n",
      "Requirement already satisfied: trio~=0.17 in c:\\users\\user\\anaconda3\\lib\\site-packages (from selenium) (0.21.0)\n",
      "Requirement already satisfied: urllib3[secure,socks]~=1.26 in c:\\users\\user\\anaconda3\\lib\\site-packages (from selenium) (1.26.9)\n",
      "Requirement already satisfied: trio-websocket~=0.9 in c:\\users\\user\\anaconda3\\lib\\site-packages (from selenium) (0.9.2)\n",
      "Requirement already satisfied: sniffio in c:\\users\\user\\anaconda3\\lib\\site-packages (from trio~=0.17->selenium) (1.2.0)\n",
      "Requirement already satisfied: outcome in c:\\users\\user\\anaconda3\\lib\\site-packages (from trio~=0.17->selenium) (1.2.0)\n",
      "Requirement already satisfied: async-generator>=1.9 in c:\\users\\user\\anaconda3\\lib\\site-packages (from trio~=0.17->selenium) (1.10)\n",
      "Requirement already satisfied: attrs>=19.2.0 in c:\\users\\user\\anaconda3\\lib\\site-packages (from trio~=0.17->selenium) (21.4.0)\n",
      "Requirement already satisfied: idna in c:\\users\\user\\anaconda3\\lib\\site-packages (from trio~=0.17->selenium) (3.3)\n",
      "Requirement already satisfied: cffi>=1.14 in c:\\users\\user\\anaconda3\\lib\\site-packages (from trio~=0.17->selenium) (1.15.0)\n",
      "Requirement already satisfied: sortedcontainers in c:\\users\\user\\anaconda3\\lib\\site-packages (from trio~=0.17->selenium) (2.4.0)\n",
      "Requirement already satisfied: pycparser in c:\\users\\user\\anaconda3\\lib\\site-packages (from cffi>=1.14->trio~=0.17->selenium) (2.21)\n",
      "Requirement already satisfied: wsproto>=0.14 in c:\\users\\user\\anaconda3\\lib\\site-packages (from trio-websocket~=0.9->selenium) (1.1.0)\n",
      "Requirement already satisfied: certifi in c:\\users\\user\\anaconda3\\lib\\site-packages (from urllib3[secure,socks]~=1.26->selenium) (2021.10.8)\n",
      "Requirement already satisfied: cryptography>=1.3.4 in c:\\users\\user\\anaconda3\\lib\\site-packages (from urllib3[secure,socks]~=1.26->selenium) (3.4.8)\n",
      "Requirement already satisfied: pyOpenSSL>=0.14 in c:\\users\\user\\anaconda3\\lib\\site-packages (from urllib3[secure,socks]~=1.26->selenium) (21.0.0)\n",
      "Requirement already satisfied: PySocks!=1.5.7,<2.0,>=1.5.6 in c:\\users\\user\\anaconda3\\lib\\site-packages (from urllib3[secure,socks]~=1.26->selenium) (1.7.1)\n",
      "Requirement already satisfied: six>=1.5.2 in c:\\users\\user\\anaconda3\\lib\\site-packages (from pyOpenSSL>=0.14->urllib3[secure,socks]~=1.26->selenium) (1.16.0)\n",
      "Requirement already satisfied: h11<1,>=0.9.0 in c:\\users\\user\\anaconda3\\lib\\site-packages (from wsproto>=0.14->trio-websocket~=0.9->selenium) (0.13.0)\n"
     ]
    }
   ],
   "source": [
    "pip install selenium"
   ]
  },
  {
   "cell_type": "code",
   "execution_count": 8,
   "metadata": {},
   "outputs": [],
   "source": [
    "from selenium import webdriver\n",
    "from selenium.webdriver.common.by import By\n",
    "from selenium.webdriver.support.ui import WebDriverWait\n",
    "from selenium.webdriver.support import expected_conditions as EC\n",
    "from selenium.webdriver.common.action_chains import ActionChains"
   ]
  },
  {
   "cell_type": "code",
   "execution_count": 9,
   "metadata": {},
   "outputs": [
    {
     "name": "stderr",
     "output_type": "stream",
     "text": [
      "C:\\Users\\user\\AppData\\Local\\Temp\\ipykernel_14224\\3748579263.py:2: DeprecationWarning: executable_path has been deprecated, please pass in a Service object\n",
      "  driver = webdriver.Firefox(executable_path=DRIVER_PATH)\n"
     ]
    }
   ],
   "source": [
    "DRIVER_PATH = './geckodriver.exe'\n",
    "driver = webdriver.Firefox(executable_path=DRIVER_PATH)\n",
    "driver.get('http://192.168.10.60/')"
   ]
  },
  {
   "cell_type": "code",
   "execution_count": 10,
   "metadata": {},
   "outputs": [],
   "source": [
    "USER_NAME = 'cevi'\n",
    "PSWD = 'EgEjQGK4UihWH9b'\n",
    "\n",
    "username = driver.find_element(By.NAME, 'username').send_keys(USER_NAME)\n",
    "password = driver.find_element(By.NAME, 'password').send_keys(PSWD)\n",
    "button = driver.find_element(By.TAG_NAME, 'button').click()"
   ]
  },
  {
   "cell_type": "code",
   "execution_count": 11,
   "metadata": {},
   "outputs": [],
   "source": [
    "driver.find_element(By.XPATH, \"//li[@class='menu-list'][2]\").click()\n",
    "driver.find_element(By.XPATH, \"//a[@href='jsp/monitor.php']\").click()"
   ]
  },
  {
   "cell_type": "code",
   "execution_count": 22,
   "metadata": {},
   "outputs": [
    {
     "name": "stdout",
     "output_type": "stream",
     "text": [
      "[['11503617', 'NEW+COAT', 'CARBIDE DRILL DIA.3XDIA.2.6X50X70', 'NEW+COAT', 'AII', 'NEW+COAT', 'PCS', 'NEW+COAT', '2', 'NEW+COAT', '0', 'NEW+COAT', '2', 'NEW+COAT', '31-08-2015', 'NEW+COAT', '0', 'NEW+COAT', 'C', 'NEW+COAT'], ['11503618', 'NEW+COAT', 'CARBIDE DRILL DIA.5.2XDIA.5.2X50X80', 'NEW+COAT', 'AII', 'NEW+COAT', 'PCS', 'NEW+COAT', '2', 'NEW+COAT', '0', 'NEW+COAT', '2', 'NEW+COAT', '31-08-2015', 'NEW+COAT', '0', 'NEW+COAT', 'C', 'NEW+COAT']]\n",
      "[['11503617', 'MODIEF', 'CARBIDE DRILL DIA.3XDIA.2.6X50X70', 'MODIEF', 'AII', 'MODIEF', 'PCS', 'MODIEF', '2', 'MODIEF', '0', 'MODIEF', '2', 'MODIEF', '31-08-2015', 'MODIEF', '0', 'MODIEF', 'C', 'MODIEF'], ['11503618', 'MODIEF', 'CARBIDE DRILL DIA.5.2XDIA.5.2X50X80', 'MODIEF', 'AII', 'MODIEF', 'PCS', 'MODIEF', '2', 'MODIEF', '0', 'MODIEF', '2', 'MODIEF', '31-08-2015', 'MODIEF', '0', 'MODIEF', 'C', 'MODIEF']]\n",
      "[['11503617', 'RETYPING', 'CARBIDE DRILL DIA.3XDIA.2.6X50X70', 'RETYPING', 'AII', 'RETYPING', 'PCS', 'RETYPING', '2', 'RETYPING', '0', 'RETYPING', '2', 'RETYPING', '31-08-2015', 'RETYPING', '0', 'RETYPING', 'C', 'RETYPING'], ['11503618', 'RETYPING', 'CARBIDE DRILL DIA.5.2XDIA.5.2X50X80', 'RETYPING', 'AII', 'RETYPING', 'PCS', 'RETYPING', '2', 'RETYPING', '0', 'RETYPING', '2', 'RETYPING', '31-08-2015', 'RETYPING', '0', 'RETYPING', 'C', 'RETYPING']]\n",
      "[['11503005', 'NEW NO COAT', 'STEP DRILL Ø9X21-Ø14X10 (4MA0777)', 'NEW NO COAT', 'HEF', 'NEW NO COAT', 'PCS', 'NEW NO COAT', '3', 'NEW NO COAT', '3', 'NEW NO COAT', '0', 'NEW NO COAT', '29-06-2015', 'NEW NO COAT', '0', 'NEW NO COAT', 'C', 'NEW NO COAT'], ['11503040', 'NEW NO COAT', 'UNV-150529-0001 TACI-D-039', 'NEW NO COAT', 'CLA', 'NEW NO COAT', 'PCS', 'NEW NO COAT', '1', 'NEW NO COAT', '1', 'NEW NO COAT', '0', 'NEW NO COAT', '10-06-2015', 'NEW NO COAT', '3', 'NEW NO COAT', 'C', 'NEW NO COAT']]\n",
      "[['11503000', 'REG NO COAT', 'BALLNOSE DIA.12', 'REG NO COAT', 'ALF', 'REG NO COAT', 'PCS', 'REG NO COAT', '5', 'REG NO COAT', '5', 'REG NO COAT', '0', 'REG NO COAT', '25-06-2015', 'REG NO COAT', '66', 'REG NO COAT', 'C', 'REG NO COAT'], ['11503030', 'REG NO COAT', 'ENDMILL DIA.17 R1', 'REG NO COAT', 'SIN', 'REG NO COAT', 'PCS', 'REG NO COAT', '4', 'REG NO COAT', '4', 'REG NO COAT', '0', 'REG NO COAT', '22-06-2015', 'REG NO COAT', '0', 'REG NO COAT', 'C', 'REG NO COAT']]\n",
      "[['', 'REG+COAT', '', 'REG+COAT', '', 'REG+COAT', 'PCS', 'REG+COAT', '0', 'REG+COAT', '0', 'REG+COAT', '0', 'REG+COAT', '13-01-2017', 'REG+COAT', '856', 'REG+COAT', 'C', 'REG+COAT'], ['11503038', 'REG+COAT', 'UNV-150529-0001 MT2381756', 'REG+COAT', 'CLA', 'REG+COAT', 'PCS', 'REG+COAT', '7', 'REG+COAT', '0', 'REG+COAT', '7', 'REG+COAT', '19-08-2015', 'REG+COAT', '0', 'REG+COAT', 'C', 'REG+COAT']]\n"
     ]
    },
    {
     "ename": "NoSuchElementException",
     "evalue": "Message: Unable to locate element: //tbody[@id='contentgeneraltbody']/tr[1]/td[2]\nStacktrace:\nWebDriverError@chrome://remote/content/shared/webdriver/Errors.jsm:183:5\nNoSuchElementError@chrome://remote/content/shared/webdriver/Errors.jsm:395:5\nelement.find/</<@chrome://remote/content/marionette/element.js:300:16\n",
     "output_type": "error",
     "traceback": [
      "\u001b[1;31m---------------------------------------------------------------------------\u001b[0m",
      "\u001b[1;31mNoSuchElementException\u001b[0m                    Traceback (most recent call last)",
      "\u001b[1;32md:\\development\\tes\\scrap\\main.ipynb Cell 6'\u001b[0m in \u001b[0;36m<cell line: 45>\u001b[1;34m()\u001b[0m\n\u001b[0;32m     <a href='vscode-notebook-cell:/d%3A/development/tes/scrap/main.ipynb#ch0000005?line=65'>66</a>\u001b[0m tmp \u001b[39m=\u001b[39m []\n\u001b[0;32m     <a href='vscode-notebook-cell:/d%3A/development/tes/scrap/main.ipynb#ch0000005?line=67'>68</a>\u001b[0m \u001b[39mfor\u001b[39;00m i \u001b[39min\u001b[39;00m \u001b[39mrange\u001b[39m(\u001b[39m1\u001b[39m, \u001b[39m11\u001b[39m):\n\u001b[1;32m---> <a href='vscode-notebook-cell:/d%3A/development/tes/scrap/main.ipynb#ch0000005?line=68'>69</a>\u001b[0m     text \u001b[39m=\u001b[39m driver\u001b[39m.\u001b[39;49mfind_element(By\u001b[39m.\u001b[39;49mXPATH, \u001b[39mf\u001b[39;49m\u001b[39m\"\u001b[39;49m\u001b[39m//tbody[@id=\u001b[39;49m\u001b[39m'\u001b[39;49m\u001b[39mcontentgeneraltbody\u001b[39;49m\u001b[39m'\u001b[39;49m\u001b[39m]/tr[\u001b[39;49m\u001b[39m{\u001b[39;49;00mrow\u001b[39m}\u001b[39;49;00m\u001b[39m]/td[\u001b[39;49m\u001b[39m{\u001b[39;49;00mi\u001b[39m}\u001b[39;49;00m\u001b[39m]\u001b[39;49m\u001b[39m\"\u001b[39;49m)\u001b[39m.\u001b[39mtext\n\u001b[0;32m     <a href='vscode-notebook-cell:/d%3A/development/tes/scrap/main.ipynb#ch0000005?line=69'>70</a>\u001b[0m     tmp\u001b[39m.\u001b[39mappend(text)\n\u001b[0;32m     <a href='vscode-notebook-cell:/d%3A/development/tes/scrap/main.ipynb#ch0000005?line=71'>72</a>\u001b[0m     tmp\u001b[39m.\u001b[39mappend(job[\u001b[39m1\u001b[39m])\n",
      "File \u001b[1;32mc:\\Users\\user\\anaconda3\\lib\\site-packages\\selenium\\webdriver\\remote\\webdriver.py:1251\u001b[0m, in \u001b[0;36mWebDriver.find_element\u001b[1;34m(self, by, value)\u001b[0m\n\u001b[0;32m   1248\u001b[0m     by \u001b[39m=\u001b[39m By\u001b[39m.\u001b[39mCSS_SELECTOR\n\u001b[0;32m   1249\u001b[0m     value \u001b[39m=\u001b[39m \u001b[39m'\u001b[39m\u001b[39m[name=\u001b[39m\u001b[39m\"\u001b[39m\u001b[39m%s\u001b[39;00m\u001b[39m\"\u001b[39m\u001b[39m]\u001b[39m\u001b[39m'\u001b[39m \u001b[39m%\u001b[39m value\n\u001b[1;32m-> 1251\u001b[0m \u001b[39mreturn\u001b[39;00m \u001b[39mself\u001b[39;49m\u001b[39m.\u001b[39;49mexecute(Command\u001b[39m.\u001b[39;49mFIND_ELEMENT, {\n\u001b[0;32m   1252\u001b[0m     \u001b[39m'\u001b[39;49m\u001b[39musing\u001b[39;49m\u001b[39m'\u001b[39;49m: by,\n\u001b[0;32m   1253\u001b[0m     \u001b[39m'\u001b[39;49m\u001b[39mvalue\u001b[39;49m\u001b[39m'\u001b[39;49m: value})[\u001b[39m'\u001b[39m\u001b[39mvalue\u001b[39m\u001b[39m'\u001b[39m]\n",
      "File \u001b[1;32mc:\\Users\\user\\anaconda3\\lib\\site-packages\\selenium\\webdriver\\remote\\webdriver.py:430\u001b[0m, in \u001b[0;36mWebDriver.execute\u001b[1;34m(self, driver_command, params)\u001b[0m\n\u001b[0;32m    428\u001b[0m response \u001b[39m=\u001b[39m \u001b[39mself\u001b[39m\u001b[39m.\u001b[39mcommand_executor\u001b[39m.\u001b[39mexecute(driver_command, params)\n\u001b[0;32m    429\u001b[0m \u001b[39mif\u001b[39;00m response:\n\u001b[1;32m--> 430\u001b[0m     \u001b[39mself\u001b[39;49m\u001b[39m.\u001b[39;49merror_handler\u001b[39m.\u001b[39;49mcheck_response(response)\n\u001b[0;32m    431\u001b[0m     response[\u001b[39m'\u001b[39m\u001b[39mvalue\u001b[39m\u001b[39m'\u001b[39m] \u001b[39m=\u001b[39m \u001b[39mself\u001b[39m\u001b[39m.\u001b[39m_unwrap_value(\n\u001b[0;32m    432\u001b[0m         response\u001b[39m.\u001b[39mget(\u001b[39m'\u001b[39m\u001b[39mvalue\u001b[39m\u001b[39m'\u001b[39m, \u001b[39mNone\u001b[39;00m))\n\u001b[0;32m    433\u001b[0m     \u001b[39mreturn\u001b[39;00m response\n",
      "File \u001b[1;32mc:\\Users\\user\\anaconda3\\lib\\site-packages\\selenium\\webdriver\\remote\\errorhandler.py:247\u001b[0m, in \u001b[0;36mErrorHandler.check_response\u001b[1;34m(self, response)\u001b[0m\n\u001b[0;32m    245\u001b[0m         alert_text \u001b[39m=\u001b[39m value[\u001b[39m'\u001b[39m\u001b[39malert\u001b[39m\u001b[39m'\u001b[39m]\u001b[39m.\u001b[39mget(\u001b[39m'\u001b[39m\u001b[39mtext\u001b[39m\u001b[39m'\u001b[39m)\n\u001b[0;32m    246\u001b[0m     \u001b[39mraise\u001b[39;00m exception_class(message, screen, stacktrace, alert_text)  \u001b[39m# type: ignore[call-arg]  # mypy is not smart enough here\u001b[39;00m\n\u001b[1;32m--> 247\u001b[0m \u001b[39mraise\u001b[39;00m exception_class(message, screen, stacktrace)\n",
      "\u001b[1;31mNoSuchElementException\u001b[0m: Message: Unable to locate element: //tbody[@id='contentgeneraltbody']/tr[1]/td[2]\nStacktrace:\nWebDriverError@chrome://remote/content/shared/webdriver/Errors.jsm:183:5\nNoSuchElementError@chrome://remote/content/shared/webdriver/Errors.jsm:395:5\nelement.find/</<@chrome://remote/content/marionette/element.js:300:16\n"
     ]
    }
   ],
   "source": [
    "product_codes = [\n",
    "    ['R', 'NEW+COAT'],\n",
    "    ['C', 'MODIEF'],\n",
    "    ['P', 'RETYPING'],\n",
    "    ['Q', 'NEW NO COAT'],\n",
    "    ['S', 'REG NO COAT'],\n",
    "    ['T', 'REG+COAT'],\n",
    "    ['A', ' '],\n",
    "]\n",
    "\n",
    "# data = [\n",
    "#     ['nomor so', 'deskripsi', 'kode cust.', 'uom', 'order', 'good', 'balance', 'due date', 'op', 'dwg no', 'location', 'Date Completed']\n",
    "# ]\n",
    "\n",
    "data = []\n",
    "\n",
    "#  hanya untuk test\n",
    "\n",
    "# driver.find_element(By.ID, 'mor_prod_code').click()\n",
    "# driver.find_element(By.XPATH, f\"//option[@value='{job[0]}']\").click()\n",
    "\n",
    "# action = ActionChains(driver)\n",
    "# action.context_click(on_element = driver.find_element(By.ID, 'mor_ord_status')).perform()\n",
    "\n",
    "# driver.find_element(By.ID, 'search').click()\n",
    "\n",
    "# wait = WebDriverWait(driver, 10)\n",
    "\n",
    "# try:\n",
    "#     wait.until(EC.element_to_be_clickable((By.ID, \"contentgeneraltbody\")))\n",
    "# finally:\n",
    "    # tmp = []\n",
    "\n",
    "    # for i in range(1, 11):\n",
    "    #     text = driver.find_element(By.XPATH, f\"//tbody[@id='contentgeneraltbody']/tr[1]/td[{i}]\").text\n",
    "    #     tmp.append(text)\n",
    "\n",
    "    # tmp.append(job[1])\n",
    "\n",
    "    # text = driver.find_element(By.ID, 'recfound').get_attribute('value')\n",
    "    # text = int(text)\n",
    "    # print(text)\n",
    "    # print(type(text))\n",
    "\n",
    "for job in product_codes:\n",
    "\n",
    "    driver.find_element(By.ID, 'mor_prod_code').click()\n",
    "    driver.find_element(By.XPATH, f\"//option[@value='{job[0]}']\").click()\n",
    "\n",
    "    action = ActionChains(driver)\n",
    "    action.context_click(on_element = driver.find_element(By.ID, 'mor_ord_status')).perform()\n",
    "\n",
    "    driver.find_element(By.ID, 'search').click()\n",
    "\n",
    "    wait = WebDriverWait(driver, 10)\n",
    "\n",
    "    try:\n",
    "        wait.until(EC.element_to_be_clickable((By.ID, \"contentgeneraltbody\")))\n",
    "    finally:\n",
    "        shop_order = []\n",
    "\n",
    "        total_row = driver.find_element(By.ID, 'recfound').get_attribute('value')\n",
    "        total_row = int(total_row)\n",
    "\n",
    "        for row in range(1, 3):\n",
    "            tmp = []\n",
    "\n",
    "            for i in range(1, 11):\n",
    "                text = driver.find_element(By.XPATH, f\"//tbody[@id='contentgeneraltbody']/tr[{row}]/td[{i}]\").text\n",
    "                tmp.append(text)\n",
    "\n",
    "                tmp.append(job[1])\n",
    "            \n",
    "            shop_order.append(tmp)\n",
    "        \n",
    "    print(shop_order)\n",
    "\n"
   ]
  },
  {
   "cell_type": "code",
   "execution_count": null,
   "metadata": {},
   "outputs": [],
   "source": []
  }
 ],
 "metadata": {
  "kernelspec": {
   "display_name": "Python 3.9.12 ('base')",
   "language": "python",
   "name": "python3"
  },
  "language_info": {
   "codemirror_mode": {
    "name": "ipython",
    "version": 3
   },
   "file_extension": ".py",
   "mimetype": "text/x-python",
   "name": "python",
   "nbconvert_exporter": "python",
   "pygments_lexer": "ipython3",
   "version": "3.9.12"
  },
  "orig_nbformat": 4,
  "vscode": {
   "interpreter": {
    "hash": "a077222d77dfe082b8f1dd562ad70e458ac2ab76993a0b248ab0476e32e9e8dd"
   }
  }
 },
 "nbformat": 4,
 "nbformat_minor": 2
}
